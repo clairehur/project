{
 "cells": [
  {
   "cell_type": "code",
   "execution_count": 1,
   "id": "23e05eda",
   "metadata": {
    "_cell_guid": "b1076dfc-b9ad-4769-8c92-a6c4dae69d19",
    "_uuid": "8f2839f25d086af736a60e9eeb907d3b93b6e0e5",
    "execution": {
     "iopub.execute_input": "2022-02-05T00:37:09.821941Z",
     "iopub.status.busy": "2022-02-05T00:37:09.821161Z",
     "iopub.status.idle": "2022-02-05T00:37:11.611547Z",
     "shell.execute_reply": "2022-02-05T00:37:11.610900Z",
     "shell.execute_reply.started": "2022-02-04T14:02:18.374662Z"
    },
    "papermill": {
     "duration": 1.813896,
     "end_time": "2022-02-05T00:37:11.611702",
     "exception": false,
     "start_time": "2022-02-05T00:37:09.797806",
     "status": "completed"
    },
    "tags": []
   },
   "outputs": [],
   "source": [
    "# Importamos librerías\n",
    "import pandas as pd\n",
    "import numpy as np\n",
    "import matplotlib.pyplot as plt\n",
    "import seaborn as sns\n",
    "from sklearn.model_selection import train_test_split\n",
    "from sklearn import model_selection\n",
    "from xgboost import XGBClassifier\n",
    "from sklearn.metrics import accuracy_score\n",
    "import numpy as np \n",
    "import pandas as pd\n",
    "from xgboost import XGBRegressor\n",
    "import optuna\n",
    "from sklearn.metrics import log_loss, mean_squared_error\n",
    "from sklearn.metrics import accuracy_score\n",
    "from scipy import stats\n",
    "\n",
    "\n",
    "import warnings\n",
    "warnings.filterwarnings(\"ignore\")"
   ]
  },
  {
   "cell_type": "code",
   "execution_count": 2,
   "id": "6a482326",
   "metadata": {
    "execution": {
     "iopub.execute_input": "2022-02-05T00:37:11.639587Z",
     "iopub.status.busy": "2022-02-05T00:37:11.639073Z",
     "iopub.status.idle": "2022-02-05T00:38:10.281562Z",
     "shell.execute_reply": "2022-02-05T00:38:10.282356Z",
     "shell.execute_reply.started": "2022-02-04T14:02:18.382451Z"
    },
    "papermill": {
     "duration": 58.65819,
     "end_time": "2022-02-05T00:38:10.282579",
     "exception": false,
     "start_time": "2022-02-05T00:37:11.624389",
     "status": "completed"
    },
    "tags": []
   },
   "outputs": [],
   "source": [
    "test= pd.read_csv(\"../input/tabular-playground-series-feb-2022/test.csv\")           \n",
    "train_fold= pd.read_csv(\"../input/tps-feb-2022-kfold/train_folds.csv\") \n",
    "sample_sub=pd.read_csv(\"../input/tabular-playground-series-feb-2022/sample_submission.csv\")\n",
    "data = pd.read_csv(\"../input/tabular-playground-series-feb-2022/train.csv\")"
   ]
  },
  {
   "cell_type": "code",
   "execution_count": 3,
   "id": "54601752",
   "metadata": {
    "execution": {
     "iopub.execute_input": "2022-02-05T00:38:10.326252Z",
     "iopub.status.busy": "2022-02-05T00:38:10.325465Z",
     "iopub.status.idle": "2022-02-05T00:38:10.357480Z",
     "shell.execute_reply": "2022-02-05T00:38:10.357084Z",
     "shell.execute_reply.started": "2022-02-04T14:02:51.074679Z"
    },
    "papermill": {
     "duration": 0.064063,
     "end_time": "2022-02-05T00:38:10.357619",
     "exception": false,
     "start_time": "2022-02-05T00:38:10.293556",
     "status": "completed"
    },
    "tags": []
   },
   "outputs": [],
   "source": [
    "targets = train_fold.target.unique()\n",
    "target_dict = {t: i for i, t in enumerate(targets)} \n",
    "target_dict_inv = {v: k for k, v in target_dict.items()}\n",
    "data[\"target_map\"] = data.target.map(target_dict)"
   ]
  },
  {
   "cell_type": "code",
   "execution_count": 4,
   "id": "3ef4b6fe",
   "metadata": {
    "execution": {
     "iopub.execute_input": "2022-02-05T00:38:10.383919Z",
     "iopub.status.busy": "2022-02-05T00:38:10.383182Z",
     "iopub.status.idle": "2022-02-05T00:38:10.846532Z",
     "shell.execute_reply": "2022-02-05T00:38:10.846952Z",
     "shell.execute_reply.started": "2022-02-04T14:02:51.122258Z"
    },
    "papermill": {
     "duration": 0.478592,
     "end_time": "2022-02-05T00:38:10.847100",
     "exception": false,
     "start_time": "2022-02-05T00:38:10.368508",
     "status": "completed"
    },
    "tags": []
   },
   "outputs": [
    {
     "data": {
      "text/plain": [
       "((150000, 289), (50000, 289))"
      ]
     },
     "execution_count": 4,
     "metadata": {},
     "output_type": "execute_result"
    }
   ],
   "source": [
    "train_split, val_split = train_test_split(data,test_size=0.25,random_state=42)\n",
    "train_split.shape,val_split.shape"
   ]
  },
  {
   "cell_type": "code",
   "execution_count": 5,
   "id": "5f0ff43d",
   "metadata": {
    "execution": {
     "iopub.execute_input": "2022-02-05T00:38:10.875094Z",
     "iopub.status.busy": "2022-02-05T00:38:10.874319Z",
     "iopub.status.idle": "2022-02-05T00:38:10.897334Z",
     "shell.execute_reply": "2022-02-05T00:38:10.897714Z",
     "shell.execute_reply.started": "2022-02-04T14:02:51.579594Z"
    },
    "papermill": {
     "duration": 0.039409,
     "end_time": "2022-02-05T00:38:10.897837",
     "exception": false,
     "start_time": "2022-02-05T00:38:10.858428",
     "status": "completed"
    },
    "tags": []
   },
   "outputs": [
    {
     "data": {
      "text/html": [
       "<div>\n",
       "<style scoped>\n",
       "    .dataframe tbody tr th:only-of-type {\n",
       "        vertical-align: middle;\n",
       "    }\n",
       "\n",
       "    .dataframe tbody tr th {\n",
       "        vertical-align: top;\n",
       "    }\n",
       "\n",
       "    .dataframe thead th {\n",
       "        text-align: right;\n",
       "    }\n",
       "</style>\n",
       "<table border=\"1\" class=\"dataframe\">\n",
       "  <thead>\n",
       "    <tr style=\"text-align: right;\">\n",
       "      <th></th>\n",
       "      <th>row_id</th>\n",
       "      <th>A0T0G0C10</th>\n",
       "      <th>A0T0G1C9</th>\n",
       "      <th>A0T0G2C8</th>\n",
       "      <th>A0T0G3C7</th>\n",
       "      <th>A0T0G4C6</th>\n",
       "      <th>A0T0G5C5</th>\n",
       "      <th>A0T0G6C4</th>\n",
       "      <th>A0T0G7C3</th>\n",
       "      <th>A0T0G8C2</th>\n",
       "      <th>...</th>\n",
       "      <th>A8T0G2C0</th>\n",
       "      <th>A8T1G0C1</th>\n",
       "      <th>A8T1G1C0</th>\n",
       "      <th>A8T2G0C0</th>\n",
       "      <th>A9T0G0C1</th>\n",
       "      <th>A9T0G1C0</th>\n",
       "      <th>A9T1G0C0</th>\n",
       "      <th>A10T0G0C0</th>\n",
       "      <th>target</th>\n",
       "      <th>target_map</th>\n",
       "    </tr>\n",
       "  </thead>\n",
       "  <tbody>\n",
       "    <tr>\n",
       "      <th>21743</th>\n",
       "      <td>21743</td>\n",
       "      <td>-9.536743e-07</td>\n",
       "      <td>0.00001</td>\n",
       "      <td>0.000017</td>\n",
       "      <td>-0.000004</td>\n",
       "      <td>-0.00002</td>\n",
       "      <td>0.00008</td>\n",
       "      <td>-0.00003</td>\n",
       "      <td>0.000036</td>\n",
       "      <td>-0.000043</td>\n",
       "      <td>...</td>\n",
       "      <td>0.000157</td>\n",
       "      <td>0.000164</td>\n",
       "      <td>0.000194</td>\n",
       "      <td>0.000037</td>\n",
       "      <td>0.00001</td>\n",
       "      <td>0.00007</td>\n",
       "      <td>4.632568e-07</td>\n",
       "      <td>-9.536743e-07</td>\n",
       "      <td>Enterococcus_hirae</td>\n",
       "      <td>2</td>\n",
       "    </tr>\n",
       "    <tr>\n",
       "      <th>124554</th>\n",
       "      <td>124554</td>\n",
       "      <td>-9.536743e-07</td>\n",
       "      <td>-0.00001</td>\n",
       "      <td>-0.000043</td>\n",
       "      <td>-0.000114</td>\n",
       "      <td>-0.00020</td>\n",
       "      <td>-0.00024</td>\n",
       "      <td>-0.00020</td>\n",
       "      <td>-0.000114</td>\n",
       "      <td>-0.000043</td>\n",
       "      <td>...</td>\n",
       "      <td>-0.000043</td>\n",
       "      <td>-0.000086</td>\n",
       "      <td>-0.000086</td>\n",
       "      <td>-0.000043</td>\n",
       "      <td>-0.00001</td>\n",
       "      <td>-0.00001</td>\n",
       "      <td>-9.536743e-06</td>\n",
       "      <td>-9.536743e-07</td>\n",
       "      <td>Escherichia_fergusonii</td>\n",
       "      <td>7</td>\n",
       "    </tr>\n",
       "    <tr>\n",
       "      <th>10351</th>\n",
       "      <td>10351</td>\n",
       "      <td>-9.536743e-07</td>\n",
       "      <td>-0.00001</td>\n",
       "      <td>-0.000043</td>\n",
       "      <td>-0.000114</td>\n",
       "      <td>-0.00020</td>\n",
       "      <td>-0.00024</td>\n",
       "      <td>-0.00020</td>\n",
       "      <td>-0.000114</td>\n",
       "      <td>-0.000043</td>\n",
       "      <td>...</td>\n",
       "      <td>-0.000043</td>\n",
       "      <td>-0.000086</td>\n",
       "      <td>-0.000086</td>\n",
       "      <td>-0.000043</td>\n",
       "      <td>-0.00001</td>\n",
       "      <td>-0.00001</td>\n",
       "      <td>9.990463e-03</td>\n",
       "      <td>-9.536743e-07</td>\n",
       "      <td>Staphylococcus_aureus</td>\n",
       "      <td>6</td>\n",
       "    </tr>\n",
       "    <tr>\n",
       "      <th>135164</th>\n",
       "      <td>135164</td>\n",
       "      <td>-9.536743e-07</td>\n",
       "      <td>-0.00001</td>\n",
       "      <td>-0.000043</td>\n",
       "      <td>-0.000114</td>\n",
       "      <td>-0.00020</td>\n",
       "      <td>-0.00024</td>\n",
       "      <td>-0.00020</td>\n",
       "      <td>-0.000114</td>\n",
       "      <td>-0.000043</td>\n",
       "      <td>...</td>\n",
       "      <td>0.000957</td>\n",
       "      <td>-0.000086</td>\n",
       "      <td>0.000914</td>\n",
       "      <td>0.000957</td>\n",
       "      <td>-0.00001</td>\n",
       "      <td>-0.00001</td>\n",
       "      <td>-9.536743e-06</td>\n",
       "      <td>-9.536743e-07</td>\n",
       "      <td>Bacteroides_fragilis</td>\n",
       "      <td>8</td>\n",
       "    </tr>\n",
       "    <tr>\n",
       "      <th>49969</th>\n",
       "      <td>49969</td>\n",
       "      <td>-9.536743e-07</td>\n",
       "      <td>-0.00001</td>\n",
       "      <td>0.000007</td>\n",
       "      <td>0.000136</td>\n",
       "      <td>0.00039</td>\n",
       "      <td>0.00045</td>\n",
       "      <td>0.00044</td>\n",
       "      <td>0.000146</td>\n",
       "      <td>0.000027</td>\n",
       "      <td>...</td>\n",
       "      <td>0.000147</td>\n",
       "      <td>0.000224</td>\n",
       "      <td>0.000164</td>\n",
       "      <td>0.000177</td>\n",
       "      <td>0.00002</td>\n",
       "      <td>0.00001</td>\n",
       "      <td>3.046326e-05</td>\n",
       "      <td>-9.536743e-07</td>\n",
       "      <td>Salmonella_enterica</td>\n",
       "      <td>1</td>\n",
       "    </tr>\n",
       "  </tbody>\n",
       "</table>\n",
       "<p>5 rows × 289 columns</p>\n",
       "</div>"
      ],
      "text/plain": [
       "        row_id     A0T0G0C10  A0T0G1C9  A0T0G2C8  A0T0G3C7  A0T0G4C6  \\\n",
       "21743    21743 -9.536743e-07   0.00001  0.000017 -0.000004  -0.00002   \n",
       "124554  124554 -9.536743e-07  -0.00001 -0.000043 -0.000114  -0.00020   \n",
       "10351    10351 -9.536743e-07  -0.00001 -0.000043 -0.000114  -0.00020   \n",
       "135164  135164 -9.536743e-07  -0.00001 -0.000043 -0.000114  -0.00020   \n",
       "49969    49969 -9.536743e-07  -0.00001  0.000007  0.000136   0.00039   \n",
       "\n",
       "        A0T0G5C5  A0T0G6C4  A0T0G7C3  A0T0G8C2  ...  A8T0G2C0  A8T1G0C1  \\\n",
       "21743    0.00008  -0.00003  0.000036 -0.000043  ...  0.000157  0.000164   \n",
       "124554  -0.00024  -0.00020 -0.000114 -0.000043  ... -0.000043 -0.000086   \n",
       "10351   -0.00024  -0.00020 -0.000114 -0.000043  ... -0.000043 -0.000086   \n",
       "135164  -0.00024  -0.00020 -0.000114 -0.000043  ...  0.000957 -0.000086   \n",
       "49969    0.00045   0.00044  0.000146  0.000027  ...  0.000147  0.000224   \n",
       "\n",
       "        A8T1G1C0  A8T2G0C0  A9T0G0C1  A9T0G1C0      A9T1G0C0     A10T0G0C0  \\\n",
       "21743   0.000194  0.000037   0.00001   0.00007  4.632568e-07 -9.536743e-07   \n",
       "124554 -0.000086 -0.000043  -0.00001  -0.00001 -9.536743e-06 -9.536743e-07   \n",
       "10351  -0.000086 -0.000043  -0.00001  -0.00001  9.990463e-03 -9.536743e-07   \n",
       "135164  0.000914  0.000957  -0.00001  -0.00001 -9.536743e-06 -9.536743e-07   \n",
       "49969   0.000164  0.000177   0.00002   0.00001  3.046326e-05 -9.536743e-07   \n",
       "\n",
       "                        target  target_map  \n",
       "21743       Enterococcus_hirae           2  \n",
       "124554  Escherichia_fergusonii           7  \n",
       "10351    Staphylococcus_aureus           6  \n",
       "135164    Bacteroides_fragilis           8  \n",
       "49969      Salmonella_enterica           1  \n",
       "\n",
       "[5 rows x 289 columns]"
      ]
     },
     "execution_count": 5,
     "metadata": {},
     "output_type": "execute_result"
    }
   ],
   "source": [
    "train_split.head()"
   ]
  },
  {
   "cell_type": "code",
   "execution_count": 6,
   "id": "ede31136",
   "metadata": {
    "execution": {
     "iopub.execute_input": "2022-02-05T00:38:10.933216Z",
     "iopub.status.busy": "2022-02-05T00:38:10.923391Z",
     "iopub.status.idle": "2022-02-05T00:38:10.944344Z",
     "shell.execute_reply": "2022-02-05T00:38:10.943960Z",
     "shell.execute_reply.started": "2022-02-04T14:02:51.608212Z"
    },
    "papermill": {
     "duration": 0.035384,
     "end_time": "2022-02-05T00:38:10.944455",
     "exception": false,
     "start_time": "2022-02-05T00:38:10.909071",
     "status": "completed"
    },
    "tags": []
   },
   "outputs": [
    {
     "data": {
      "text/html": [
       "<div>\n",
       "<style scoped>\n",
       "    .dataframe tbody tr th:only-of-type {\n",
       "        vertical-align: middle;\n",
       "    }\n",
       "\n",
       "    .dataframe tbody tr th {\n",
       "        vertical-align: top;\n",
       "    }\n",
       "\n",
       "    .dataframe thead th {\n",
       "        text-align: right;\n",
       "    }\n",
       "</style>\n",
       "<table border=\"1\" class=\"dataframe\">\n",
       "  <thead>\n",
       "    <tr style=\"text-align: right;\">\n",
       "      <th></th>\n",
       "      <th>row_id</th>\n",
       "      <th>A0T0G0C10</th>\n",
       "      <th>A0T0G1C9</th>\n",
       "      <th>A0T0G2C8</th>\n",
       "      <th>A0T0G3C7</th>\n",
       "      <th>A0T0G4C6</th>\n",
       "      <th>A0T0G5C5</th>\n",
       "      <th>A0T0G6C4</th>\n",
       "      <th>A0T0G7C3</th>\n",
       "      <th>A0T0G8C2</th>\n",
       "      <th>...</th>\n",
       "      <th>A8T0G2C0</th>\n",
       "      <th>A8T1G0C1</th>\n",
       "      <th>A8T1G1C0</th>\n",
       "      <th>A8T2G0C0</th>\n",
       "      <th>A9T0G0C1</th>\n",
       "      <th>A9T0G1C0</th>\n",
       "      <th>A9T1G0C0</th>\n",
       "      <th>A10T0G0C0</th>\n",
       "      <th>target</th>\n",
       "      <th>target_map</th>\n",
       "    </tr>\n",
       "  </thead>\n",
       "  <tbody>\n",
       "    <tr>\n",
       "      <th>119737</th>\n",
       "      <td>119737</td>\n",
       "      <td>-9.536743e-07</td>\n",
       "      <td>4.632568e-07</td>\n",
       "      <td>-0.000033</td>\n",
       "      <td>0.000016</td>\n",
       "      <td>0.000070</td>\n",
       "      <td>-0.000030</td>\n",
       "      <td>-0.000010</td>\n",
       "      <td>-0.000034</td>\n",
       "      <td>-0.000003</td>\n",
       "      <td>...</td>\n",
       "      <td>0.000117</td>\n",
       "      <td>0.000254</td>\n",
       "      <td>0.000154</td>\n",
       "      <td>0.000177</td>\n",
       "      <td>0.000020</td>\n",
       "      <td>0.000030</td>\n",
       "      <td>0.000040</td>\n",
       "      <td>-9.536743e-07</td>\n",
       "      <td>Escherichia_fergusonii</td>\n",
       "      <td>7</td>\n",
       "    </tr>\n",
       "    <tr>\n",
       "      <th>72272</th>\n",
       "      <td>72272</td>\n",
       "      <td>-9.536743e-07</td>\n",
       "      <td>1.046326e-05</td>\n",
       "      <td>0.000007</td>\n",
       "      <td>-0.000004</td>\n",
       "      <td>-0.000030</td>\n",
       "      <td>0.000020</td>\n",
       "      <td>-0.000050</td>\n",
       "      <td>0.000016</td>\n",
       "      <td>-0.000043</td>\n",
       "      <td>...</td>\n",
       "      <td>0.000137</td>\n",
       "      <td>0.000264</td>\n",
       "      <td>0.000324</td>\n",
       "      <td>0.000267</td>\n",
       "      <td>0.000010</td>\n",
       "      <td>0.000020</td>\n",
       "      <td>0.000050</td>\n",
       "      <td>-9.536743e-07</td>\n",
       "      <td>Staphylococcus_aureus</td>\n",
       "      <td>6</td>\n",
       "    </tr>\n",
       "    <tr>\n",
       "      <th>158154</th>\n",
       "      <td>158154</td>\n",
       "      <td>-9.536743e-07</td>\n",
       "      <td>-6.536743e-06</td>\n",
       "      <td>-0.000023</td>\n",
       "      <td>-0.000069</td>\n",
       "      <td>-0.000112</td>\n",
       "      <td>-0.000146</td>\n",
       "      <td>-0.000113</td>\n",
       "      <td>-0.000066</td>\n",
       "      <td>-0.000021</td>\n",
       "      <td>...</td>\n",
       "      <td>0.000312</td>\n",
       "      <td>0.000505</td>\n",
       "      <td>0.000557</td>\n",
       "      <td>0.000322</td>\n",
       "      <td>0.000064</td>\n",
       "      <td>0.000099</td>\n",
       "      <td>0.000086</td>\n",
       "      <td>1.046326e-06</td>\n",
       "      <td>Streptococcus_pyogenes</td>\n",
       "      <td>0</td>\n",
       "    </tr>\n",
       "    <tr>\n",
       "      <th>65426</th>\n",
       "      <td>65426</td>\n",
       "      <td>4.632568e-08</td>\n",
       "      <td>-8.536743e-06</td>\n",
       "      <td>-0.000018</td>\n",
       "      <td>0.000043</td>\n",
       "      <td>0.000030</td>\n",
       "      <td>-0.000007</td>\n",
       "      <td>0.000002</td>\n",
       "      <td>0.000047</td>\n",
       "      <td>-0.000019</td>\n",
       "      <td>...</td>\n",
       "      <td>0.000099</td>\n",
       "      <td>0.000199</td>\n",
       "      <td>0.000229</td>\n",
       "      <td>0.000168</td>\n",
       "      <td>0.000023</td>\n",
       "      <td>0.000015</td>\n",
       "      <td>0.000046</td>\n",
       "      <td>-9.536743e-07</td>\n",
       "      <td>Escherichia_fergusonii</td>\n",
       "      <td>7</td>\n",
       "    </tr>\n",
       "    <tr>\n",
       "      <th>30074</th>\n",
       "      <td>30074</td>\n",
       "      <td>-9.536743e-07</td>\n",
       "      <td>-9.536743e-06</td>\n",
       "      <td>-0.000043</td>\n",
       "      <td>-0.000114</td>\n",
       "      <td>-0.000200</td>\n",
       "      <td>-0.000240</td>\n",
       "      <td>0.009800</td>\n",
       "      <td>0.009886</td>\n",
       "      <td>-0.000043</td>\n",
       "      <td>...</td>\n",
       "      <td>-0.000043</td>\n",
       "      <td>-0.000086</td>\n",
       "      <td>-0.000086</td>\n",
       "      <td>0.009957</td>\n",
       "      <td>-0.000010</td>\n",
       "      <td>-0.000010</td>\n",
       "      <td>-0.000010</td>\n",
       "      <td>-9.536743e-07</td>\n",
       "      <td>Klebsiella_pneumoniae</td>\n",
       "      <td>9</td>\n",
       "    </tr>\n",
       "  </tbody>\n",
       "</table>\n",
       "<p>5 rows × 289 columns</p>\n",
       "</div>"
      ],
      "text/plain": [
       "        row_id     A0T0G0C10      A0T0G1C9  A0T0G2C8  A0T0G3C7  A0T0G4C6  \\\n",
       "119737  119737 -9.536743e-07  4.632568e-07 -0.000033  0.000016  0.000070   \n",
       "72272    72272 -9.536743e-07  1.046326e-05  0.000007 -0.000004 -0.000030   \n",
       "158154  158154 -9.536743e-07 -6.536743e-06 -0.000023 -0.000069 -0.000112   \n",
       "65426    65426  4.632568e-08 -8.536743e-06 -0.000018  0.000043  0.000030   \n",
       "30074    30074 -9.536743e-07 -9.536743e-06 -0.000043 -0.000114 -0.000200   \n",
       "\n",
       "        A0T0G5C5  A0T0G6C4  A0T0G7C3  A0T0G8C2  ...  A8T0G2C0  A8T1G0C1  \\\n",
       "119737 -0.000030 -0.000010 -0.000034 -0.000003  ...  0.000117  0.000254   \n",
       "72272   0.000020 -0.000050  0.000016 -0.000043  ...  0.000137  0.000264   \n",
       "158154 -0.000146 -0.000113 -0.000066 -0.000021  ...  0.000312  0.000505   \n",
       "65426  -0.000007  0.000002  0.000047 -0.000019  ...  0.000099  0.000199   \n",
       "30074  -0.000240  0.009800  0.009886 -0.000043  ... -0.000043 -0.000086   \n",
       "\n",
       "        A8T1G1C0  A8T2G0C0  A9T0G0C1  A9T0G1C0  A9T1G0C0     A10T0G0C0  \\\n",
       "119737  0.000154  0.000177  0.000020  0.000030  0.000040 -9.536743e-07   \n",
       "72272   0.000324  0.000267  0.000010  0.000020  0.000050 -9.536743e-07   \n",
       "158154  0.000557  0.000322  0.000064  0.000099  0.000086  1.046326e-06   \n",
       "65426   0.000229  0.000168  0.000023  0.000015  0.000046 -9.536743e-07   \n",
       "30074  -0.000086  0.009957 -0.000010 -0.000010 -0.000010 -9.536743e-07   \n",
       "\n",
       "                        target  target_map  \n",
       "119737  Escherichia_fergusonii           7  \n",
       "72272    Staphylococcus_aureus           6  \n",
       "158154  Streptococcus_pyogenes           0  \n",
       "65426   Escherichia_fergusonii           7  \n",
       "30074    Klebsiella_pneumoniae           9  \n",
       "\n",
       "[5 rows x 289 columns]"
      ]
     },
     "execution_count": 6,
     "metadata": {},
     "output_type": "execute_result"
    }
   ],
   "source": [
    "val_split.head()"
   ]
  },
  {
   "cell_type": "code",
   "execution_count": 7,
   "id": "35f663e4",
   "metadata": {
    "execution": {
     "iopub.execute_input": "2022-02-05T00:38:11.240607Z",
     "iopub.status.busy": "2022-02-05T00:38:11.139860Z",
     "iopub.status.idle": "2022-02-05T00:38:11.243477Z",
     "shell.execute_reply": "2022-02-05T00:38:11.243058Z",
     "shell.execute_reply.started": "2022-02-04T14:02:51.636670Z"
    },
    "papermill": {
     "duration": 0.287209,
     "end_time": "2022-02-05T00:38:11.243634",
     "exception": false,
     "start_time": "2022-02-05T00:38:10.956425",
     "status": "completed"
    },
    "tags": []
   },
   "outputs": [],
   "source": [
    "features = [c for c in train_fold.columns if c not in (\"target\", \"kfold\",\"target_map\")]\n",
    "target=\"target_map\"\n",
    "df_test=test[features]\n",
    "\n",
    "X_train= train_split[features]\n",
    "y_train= train_split[target]\n",
    "X_valid= val_split[features]\n",
    "y_valid= val_split[target]\n",
    "X_test= test[features]"
   ]
  },
  {
   "cell_type": "code",
   "execution_count": 8,
   "id": "ab9ae374",
   "metadata": {
    "execution": {
     "iopub.execute_input": "2022-02-05T00:38:11.275855Z",
     "iopub.status.busy": "2022-02-05T00:38:11.275080Z",
     "iopub.status.idle": "2022-02-05T00:38:11.277097Z",
     "shell.execute_reply": "2022-02-05T00:38:11.277456Z",
     "shell.execute_reply.started": "2022-02-04T14:03:58.860856Z"
    },
    "papermill": {
     "duration": 0.021621,
     "end_time": "2022-02-05T00:38:11.277592",
     "exception": false,
     "start_time": "2022-02-05T00:38:11.255971",
     "status": "completed"
    },
    "tags": []
   },
   "outputs": [],
   "source": [
    "def objective(trial):\n",
    "    \n",
    "    param = {\n",
    "        'max_depth': trial.suggest_int('max_depth', 2, 15),\n",
    "        'subsample': trial.suggest_discrete_uniform('subsample', 0.6, 1.0, 0.05),\n",
    "        'n_estimators': trial.suggest_int('n_estimators', 1000, 10000, 100),\n",
    "        'eta': trial.suggest_discrete_uniform('eta', 0.01, 0.1, 0.01),\n",
    "        'reg_alpha': trial.suggest_int('reg_alpha', 1, 50),\n",
    "        'reg_lambda': trial.suggest_int('reg_lambda', 5, 100),\n",
    "        'min_child_weight': trial.suggest_int('min_child_weight', 2, 20),\n",
    "        \"colsample_bytree\": trial.suggest_float(\"colsample_bytree\", 0.1, 1.0),\n",
    "    }\n",
    "   \n",
    "    model = XGBClassifier(random_state=42, \n",
    "                             tree_method='gpu_hist', \n",
    "                             gpu_id=0, \n",
    "                             predictor=\"gpu_predictor\"\n",
    "                             ,**param )  \n",
    "    model.fit(X_train, y_train,eval_set=[(X_valid,y_valid)], early_stopping_rounds=150,verbose=False)\n",
    "    preds = model.predict(X_valid)\n",
    "    acc = accuracy_score(y_valid, preds)\n",
    "    return acc"
   ]
  },
  {
   "cell_type": "code",
   "execution_count": 9,
   "id": "db38412a",
   "metadata": {
    "execution": {
     "iopub.execute_input": "2022-02-05T00:38:11.306334Z",
     "iopub.status.busy": "2022-02-05T00:38:11.305494Z",
     "iopub.status.idle": "2022-02-05T01:02:28.607198Z",
     "shell.execute_reply": "2022-02-05T01:02:28.606743Z"
    },
    "papermill": {
     "duration": 1457.317935,
     "end_time": "2022-02-05T01:02:28.607317",
     "exception": false,
     "start_time": "2022-02-05T00:38:11.289382",
     "status": "completed"
    },
    "tags": []
   },
   "outputs": [
    {
     "name": "stderr",
     "output_type": "stream",
     "text": [
      "\u001b[32m[I 2022-02-05 00:38:11,303]\u001b[0m A new study created in memory with name: no-name-cf785b52-33c0-47d4-bc1d-5182e9d57708\u001b[0m\n"
     ]
    },
    {
     "name": "stdout",
     "output_type": "stream",
     "text": [
      "[00:38:15] WARNING: ../src/learner.cc:1115: Starting in XGBoost 1.3.0, the default evaluation metric used with the objective 'multi:softprob' was changed from 'merror' to 'mlogloss'. Explicitly set eval_metric if you'd like to restore the old behavior.\n"
     ]
    },
    {
     "name": "stderr",
     "output_type": "stream",
     "text": [
      "\u001b[32m[I 2022-02-05 00:54:21,439]\u001b[0m Trial 0 finished with value: 0.99298 and parameters: {'max_depth': 11, 'subsample': 0.7, 'n_estimators': 6200, 'eta': 0.02, 'reg_alpha': 2, 'reg_lambda': 24, 'min_child_weight': 12, 'colsample_bytree': 0.6539443755148}. Best is trial 0 with value: 0.99298.\u001b[0m\n"
     ]
    },
    {
     "name": "stdout",
     "output_type": "stream",
     "text": [
      "[00:54:23] WARNING: ../src/learner.cc:1115: Starting in XGBoost 1.3.0, the default evaluation metric used with the objective 'multi:softprob' was changed from 'merror' to 'mlogloss'. Explicitly set eval_metric if you'd like to restore the old behavior.\n"
     ]
    },
    {
     "name": "stderr",
     "output_type": "stream",
     "text": [
      "\u001b[32m[I 2022-02-05 00:58:05,268]\u001b[0m Trial 1 finished with value: 0.97954 and parameters: {'max_depth': 10, 'subsample': 0.75, 'n_estimators': 3100, 'eta': 0.08, 'reg_alpha': 31, 'reg_lambda': 64, 'min_child_weight': 4, 'colsample_bytree': 0.9833450613013808}. Best is trial 0 with value: 0.99298.\u001b[0m\n"
     ]
    },
    {
     "name": "stdout",
     "output_type": "stream",
     "text": [
      "[00:58:06] WARNING: ../src/learner.cc:1115: Starting in XGBoost 1.3.0, the default evaluation metric used with the objective 'multi:softprob' was changed from 'merror' to 'mlogloss'. Explicitly set eval_metric if you'd like to restore the old behavior.\n"
     ]
    },
    {
     "name": "stderr",
     "output_type": "stream",
     "text": [
      "\u001b[32m[I 2022-02-05 01:02:28,586]\u001b[0m Trial 2 finished with value: 0.9255 and parameters: {'max_depth': 2, 'subsample': 0.6, 'n_estimators': 6300, 'eta': 0.02, 'reg_alpha': 16, 'reg_lambda': 67, 'min_child_weight': 3, 'colsample_bytree': 0.8326740482741087}. Best is trial 0 with value: 0.99298.\u001b[0m\n"
     ]
    },
    {
     "name": "stdout",
     "output_type": "stream",
     "text": [
      "Number of finished trials: 3\n",
      "Best trial: {'max_depth': 11, 'subsample': 0.7, 'n_estimators': 6200, 'eta': 0.02, 'reg_alpha': 2, 'reg_lambda': 24, 'min_child_weight': 12, 'colsample_bytree': 0.6539443755148}\n"
     ]
    }
   ],
   "source": [
    "study = optuna.create_study(direction='maximize')\n",
    "study.optimize(objective, n_trials=3)\n",
    "#study.optimize(objective, n_trials=50)\n",
    "print('Number of finished trials:', len(study.trials))\n",
    "print('Best trial:', study.best_trial.params)"
   ]
  },
  {
   "cell_type": "code",
   "execution_count": 10,
   "id": "b8f7cb64",
   "metadata": {
    "execution": {
     "iopub.execute_input": "2022-02-05T01:02:28.639337Z",
     "iopub.status.busy": "2022-02-05T01:02:28.638832Z",
     "iopub.status.idle": "2022-02-05T01:02:29.004138Z",
     "shell.execute_reply": "2022-02-05T01:02:29.003709Z"
    },
    "papermill": {
     "duration": 0.382931,
     "end_time": "2022-02-05T01:02:29.004257",
     "exception": false,
     "start_time": "2022-02-05T01:02:28.621326",
     "status": "completed"
    },
    "tags": []
   },
   "outputs": [
    {
     "data": {
      "text/html": [
       "        <script type=\"text/javascript\">\n",
       "        window.PlotlyConfig = {MathJaxConfig: 'local'};\n",
       "        if (window.MathJax) {MathJax.Hub.Config({SVG: {font: \"STIX-Web\"}});}\n",
       "        if (typeof require !== 'undefined') {\n",
       "        require.undef(\"plotly\");\n",
       "        requirejs.config({\n",
       "            paths: {\n",
       "                'plotly': ['https://cdn.plot.ly/plotly-2.8.3.min']\n",
       "            }\n",
       "        });\n",
       "        require(['plotly'], function(Plotly) {\n",
       "            window._Plotly = Plotly;\n",
       "        });\n",
       "        }\n",
       "        </script>\n",
       "        "
      ]
     },
     "metadata": {},
     "output_type": "display_data"
    },
    {
     "data": {
      "text/html": [
       "<div>                            <div id=\"67d0128a-6a5f-4e4d-8502-6a794a1a1a35\" class=\"plotly-graph-div\" style=\"height:525px; width:100%;\"></div>            <script type=\"text/javascript\">                require([\"plotly\"], function(Plotly) {                    window.PLOTLYENV=window.PLOTLYENV || {};                                    if (document.getElementById(\"67d0128a-6a5f-4e4d-8502-6a794a1a1a35\")) {                    Plotly.newPlot(                        \"67d0128a-6a5f-4e4d-8502-6a794a1a1a35\",                        [{\"cliponaxis\":false,\"hovertemplate\":[\"min_child_weight (IntUniformDistribution): 0.08287821880492832<extra></extra>\",\"reg_lambda (IntUniformDistribution): 0.09700696256081658<extra></extra>\",\"n_estimators (IntUniformDistribution): 0.11405574906975156<extra></extra>\",\"colsample_bytree (UniformDistribution): 0.11491862847731615<extra></extra>\",\"eta (DiscreteUniformDistribution): 0.11553979333877461<extra></extra>\",\"reg_alpha (IntUniformDistribution): 0.14775252232797875<extra></extra>\",\"subsample (DiscreteUniformDistribution): 0.16306525187388649<extra></extra>\",\"max_depth (IntUniformDistribution): 0.1647828735465476<extra></extra>\"],\"marker\":{\"color\":\"rgb(66,146,198)\"},\"orientation\":\"h\",\"text\":[\"0.08287821880492832\",\"0.09700696256081658\",\"0.11405574906975156\",\"0.11491862847731615\",\"0.11553979333877461\",\"0.14775252232797875\",\"0.16306525187388649\",\"0.1647828735465476\"],\"textposition\":\"outside\",\"texttemplate\":\"%{text:.2f}\",\"x\":[0.08287821880492832,0.09700696256081658,0.11405574906975156,0.11491862847731615,0.11553979333877461,0.14775252232797875,0.16306525187388649,0.1647828735465476],\"y\":[\"min_child_weight\",\"reg_lambda\",\"n_estimators\",\"colsample_bytree\",\"eta\",\"reg_alpha\",\"subsample\",\"max_depth\"],\"type\":\"bar\"}],                        {\"showlegend\":false,\"title\":{\"text\":\"Hyperparameter Importances\"},\"xaxis\":{\"title\":{\"text\":\"Importance for Objective Value\"}},\"yaxis\":{\"title\":{\"text\":\"Hyperparameter\"}},\"template\":{\"data\":{\"bar\":[{\"error_x\":{\"color\":\"#2a3f5f\"},\"error_y\":{\"color\":\"#2a3f5f\"},\"marker\":{\"line\":{\"color\":\"#E5ECF6\",\"width\":0.5},\"pattern\":{\"fillmode\":\"overlay\",\"size\":10,\"solidity\":0.2}},\"type\":\"bar\"}],\"barpolar\":[{\"marker\":{\"line\":{\"color\":\"#E5ECF6\",\"width\":0.5},\"pattern\":{\"fillmode\":\"overlay\",\"size\":10,\"solidity\":0.2}},\"type\":\"barpolar\"}],\"carpet\":[{\"aaxis\":{\"endlinecolor\":\"#2a3f5f\",\"gridcolor\":\"white\",\"linecolor\":\"white\",\"minorgridcolor\":\"white\",\"startlinecolor\":\"#2a3f5f\"},\"baxis\":{\"endlinecolor\":\"#2a3f5f\",\"gridcolor\":\"white\",\"linecolor\":\"white\",\"minorgridcolor\":\"white\",\"startlinecolor\":\"#2a3f5f\"},\"type\":\"carpet\"}],\"choropleth\":[{\"colorbar\":{\"outlinewidth\":0,\"ticks\":\"\"},\"type\":\"choropleth\"}],\"contour\":[{\"colorbar\":{\"outlinewidth\":0,\"ticks\":\"\"},\"colorscale\":[[0.0,\"#0d0887\"],[0.1111111111111111,\"#46039f\"],[0.2222222222222222,\"#7201a8\"],[0.3333333333333333,\"#9c179e\"],[0.4444444444444444,\"#bd3786\"],[0.5555555555555556,\"#d8576b\"],[0.6666666666666666,\"#ed7953\"],[0.7777777777777778,\"#fb9f3a\"],[0.8888888888888888,\"#fdca26\"],[1.0,\"#f0f921\"]],\"type\":\"contour\"}],\"contourcarpet\":[{\"colorbar\":{\"outlinewidth\":0,\"ticks\":\"\"},\"type\":\"contourcarpet\"}],\"heatmap\":[{\"colorbar\":{\"outlinewidth\":0,\"ticks\":\"\"},\"colorscale\":[[0.0,\"#0d0887\"],[0.1111111111111111,\"#46039f\"],[0.2222222222222222,\"#7201a8\"],[0.3333333333333333,\"#9c179e\"],[0.4444444444444444,\"#bd3786\"],[0.5555555555555556,\"#d8576b\"],[0.6666666666666666,\"#ed7953\"],[0.7777777777777778,\"#fb9f3a\"],[0.8888888888888888,\"#fdca26\"],[1.0,\"#f0f921\"]],\"type\":\"heatmap\"}],\"heatmapgl\":[{\"colorbar\":{\"outlinewidth\":0,\"ticks\":\"\"},\"colorscale\":[[0.0,\"#0d0887\"],[0.1111111111111111,\"#46039f\"],[0.2222222222222222,\"#7201a8\"],[0.3333333333333333,\"#9c179e\"],[0.4444444444444444,\"#bd3786\"],[0.5555555555555556,\"#d8576b\"],[0.6666666666666666,\"#ed7953\"],[0.7777777777777778,\"#fb9f3a\"],[0.8888888888888888,\"#fdca26\"],[1.0,\"#f0f921\"]],\"type\":\"heatmapgl\"}],\"histogram\":[{\"marker\":{\"pattern\":{\"fillmode\":\"overlay\",\"size\":10,\"solidity\":0.2}},\"type\":\"histogram\"}],\"histogram2d\":[{\"colorbar\":{\"outlinewidth\":0,\"ticks\":\"\"},\"colorscale\":[[0.0,\"#0d0887\"],[0.1111111111111111,\"#46039f\"],[0.2222222222222222,\"#7201a8\"],[0.3333333333333333,\"#9c179e\"],[0.4444444444444444,\"#bd3786\"],[0.5555555555555556,\"#d8576b\"],[0.6666666666666666,\"#ed7953\"],[0.7777777777777778,\"#fb9f3a\"],[0.8888888888888888,\"#fdca26\"],[1.0,\"#f0f921\"]],\"type\":\"histogram2d\"}],\"histogram2dcontour\":[{\"colorbar\":{\"outlinewidth\":0,\"ticks\":\"\"},\"colorscale\":[[0.0,\"#0d0887\"],[0.1111111111111111,\"#46039f\"],[0.2222222222222222,\"#7201a8\"],[0.3333333333333333,\"#9c179e\"],[0.4444444444444444,\"#bd3786\"],[0.5555555555555556,\"#d8576b\"],[0.6666666666666666,\"#ed7953\"],[0.7777777777777778,\"#fb9f3a\"],[0.8888888888888888,\"#fdca26\"],[1.0,\"#f0f921\"]],\"type\":\"histogram2dcontour\"}],\"mesh3d\":[{\"colorbar\":{\"outlinewidth\":0,\"ticks\":\"\"},\"type\":\"mesh3d\"}],\"parcoords\":[{\"line\":{\"colorbar\":{\"outlinewidth\":0,\"ticks\":\"\"}},\"type\":\"parcoords\"}],\"pie\":[{\"automargin\":true,\"type\":\"pie\"}],\"scatter\":[{\"marker\":{\"colorbar\":{\"outlinewidth\":0,\"ticks\":\"\"}},\"type\":\"scatter\"}],\"scatter3d\":[{\"line\":{\"colorbar\":{\"outlinewidth\":0,\"ticks\":\"\"}},\"marker\":{\"colorbar\":{\"outlinewidth\":0,\"ticks\":\"\"}},\"type\":\"scatter3d\"}],\"scattercarpet\":[{\"marker\":{\"colorbar\":{\"outlinewidth\":0,\"ticks\":\"\"}},\"type\":\"scattercarpet\"}],\"scattergeo\":[{\"marker\":{\"colorbar\":{\"outlinewidth\":0,\"ticks\":\"\"}},\"type\":\"scattergeo\"}],\"scattergl\":[{\"marker\":{\"colorbar\":{\"outlinewidth\":0,\"ticks\":\"\"}},\"type\":\"scattergl\"}],\"scattermapbox\":[{\"marker\":{\"colorbar\":{\"outlinewidth\":0,\"ticks\":\"\"}},\"type\":\"scattermapbox\"}],\"scatterpolar\":[{\"marker\":{\"colorbar\":{\"outlinewidth\":0,\"ticks\":\"\"}},\"type\":\"scatterpolar\"}],\"scatterpolargl\":[{\"marker\":{\"colorbar\":{\"outlinewidth\":0,\"ticks\":\"\"}},\"type\":\"scatterpolargl\"}],\"scatterternary\":[{\"marker\":{\"colorbar\":{\"outlinewidth\":0,\"ticks\":\"\"}},\"type\":\"scatterternary\"}],\"surface\":[{\"colorbar\":{\"outlinewidth\":0,\"ticks\":\"\"},\"colorscale\":[[0.0,\"#0d0887\"],[0.1111111111111111,\"#46039f\"],[0.2222222222222222,\"#7201a8\"],[0.3333333333333333,\"#9c179e\"],[0.4444444444444444,\"#bd3786\"],[0.5555555555555556,\"#d8576b\"],[0.6666666666666666,\"#ed7953\"],[0.7777777777777778,\"#fb9f3a\"],[0.8888888888888888,\"#fdca26\"],[1.0,\"#f0f921\"]],\"type\":\"surface\"}],\"table\":[{\"cells\":{\"fill\":{\"color\":\"#EBF0F8\"},\"line\":{\"color\":\"white\"}},\"header\":{\"fill\":{\"color\":\"#C8D4E3\"},\"line\":{\"color\":\"white\"}},\"type\":\"table\"}]},\"layout\":{\"annotationdefaults\":{\"arrowcolor\":\"#2a3f5f\",\"arrowhead\":0,\"arrowwidth\":1},\"autotypenumbers\":\"strict\",\"coloraxis\":{\"colorbar\":{\"outlinewidth\":0,\"ticks\":\"\"}},\"colorscale\":{\"diverging\":[[0,\"#8e0152\"],[0.1,\"#c51b7d\"],[0.2,\"#de77ae\"],[0.3,\"#f1b6da\"],[0.4,\"#fde0ef\"],[0.5,\"#f7f7f7\"],[0.6,\"#e6f5d0\"],[0.7,\"#b8e186\"],[0.8,\"#7fbc41\"],[0.9,\"#4d9221\"],[1,\"#276419\"]],\"sequential\":[[0.0,\"#0d0887\"],[0.1111111111111111,\"#46039f\"],[0.2222222222222222,\"#7201a8\"],[0.3333333333333333,\"#9c179e\"],[0.4444444444444444,\"#bd3786\"],[0.5555555555555556,\"#d8576b\"],[0.6666666666666666,\"#ed7953\"],[0.7777777777777778,\"#fb9f3a\"],[0.8888888888888888,\"#fdca26\"],[1.0,\"#f0f921\"]],\"sequentialminus\":[[0.0,\"#0d0887\"],[0.1111111111111111,\"#46039f\"],[0.2222222222222222,\"#7201a8\"],[0.3333333333333333,\"#9c179e\"],[0.4444444444444444,\"#bd3786\"],[0.5555555555555556,\"#d8576b\"],[0.6666666666666666,\"#ed7953\"],[0.7777777777777778,\"#fb9f3a\"],[0.8888888888888888,\"#fdca26\"],[1.0,\"#f0f921\"]]},\"colorway\":[\"#636efa\",\"#EF553B\",\"#00cc96\",\"#ab63fa\",\"#FFA15A\",\"#19d3f3\",\"#FF6692\",\"#B6E880\",\"#FF97FF\",\"#FECB52\"],\"font\":{\"color\":\"#2a3f5f\"},\"geo\":{\"bgcolor\":\"white\",\"lakecolor\":\"white\",\"landcolor\":\"#E5ECF6\",\"showlakes\":true,\"showland\":true,\"subunitcolor\":\"white\"},\"hoverlabel\":{\"align\":\"left\"},\"hovermode\":\"closest\",\"mapbox\":{\"style\":\"light\"},\"paper_bgcolor\":\"white\",\"plot_bgcolor\":\"#E5ECF6\",\"polar\":{\"angularaxis\":{\"gridcolor\":\"white\",\"linecolor\":\"white\",\"ticks\":\"\"},\"bgcolor\":\"#E5ECF6\",\"radialaxis\":{\"gridcolor\":\"white\",\"linecolor\":\"white\",\"ticks\":\"\"}},\"scene\":{\"xaxis\":{\"backgroundcolor\":\"#E5ECF6\",\"gridcolor\":\"white\",\"gridwidth\":2,\"linecolor\":\"white\",\"showbackground\":true,\"ticks\":\"\",\"zerolinecolor\":\"white\"},\"yaxis\":{\"backgroundcolor\":\"#E5ECF6\",\"gridcolor\":\"white\",\"gridwidth\":2,\"linecolor\":\"white\",\"showbackground\":true,\"ticks\":\"\",\"zerolinecolor\":\"white\"},\"zaxis\":{\"backgroundcolor\":\"#E5ECF6\",\"gridcolor\":\"white\",\"gridwidth\":2,\"linecolor\":\"white\",\"showbackground\":true,\"ticks\":\"\",\"zerolinecolor\":\"white\"}},\"shapedefaults\":{\"line\":{\"color\":\"#2a3f5f\"}},\"ternary\":{\"aaxis\":{\"gridcolor\":\"white\",\"linecolor\":\"white\",\"ticks\":\"\"},\"baxis\":{\"gridcolor\":\"white\",\"linecolor\":\"white\",\"ticks\":\"\"},\"bgcolor\":\"#E5ECF6\",\"caxis\":{\"gridcolor\":\"white\",\"linecolor\":\"white\",\"ticks\":\"\"}},\"title\":{\"x\":0.05},\"xaxis\":{\"automargin\":true,\"gridcolor\":\"white\",\"linecolor\":\"white\",\"ticks\":\"\",\"title\":{\"standoff\":15},\"zerolinecolor\":\"white\",\"zerolinewidth\":2},\"yaxis\":{\"automargin\":true,\"gridcolor\":\"white\",\"linecolor\":\"white\",\"ticks\":\"\",\"title\":{\"standoff\":15},\"zerolinecolor\":\"white\",\"zerolinewidth\":2}}}},                        {\"responsive\": true}                    ).then(function(){\n",
       "                            \n",
       "var gd = document.getElementById('67d0128a-6a5f-4e4d-8502-6a794a1a1a35');\n",
       "var x = new MutationObserver(function (mutations, observer) {{\n",
       "        var display = window.getComputedStyle(gd).display;\n",
       "        if (!display || display === 'none') {{\n",
       "            console.log([gd, 'removed!']);\n",
       "            Plotly.purge(gd);\n",
       "            observer.disconnect();\n",
       "        }}\n",
       "}});\n",
       "\n",
       "// Listen for the removal of the full notebook cells\n",
       "var notebookContainer = gd.closest('#notebook-container');\n",
       "if (notebookContainer) {{\n",
       "    x.observe(notebookContainer, {childList: true});\n",
       "}}\n",
       "\n",
       "// Listen for the clearing of the current output cell\n",
       "var outputEl = gd.closest('.output');\n",
       "if (outputEl) {{\n",
       "    x.observe(outputEl, {childList: true});\n",
       "}}\n",
       "\n",
       "                        })                };                });            </script>        </div>"
      ]
     },
     "metadata": {},
     "output_type": "display_data"
    }
   ],
   "source": [
    "# Visualizamos la importancia de los parámetros\n",
    "optuna.visualization.plot_param_importances(study)"
   ]
  },
  {
   "cell_type": "code",
   "execution_count": 11,
   "id": "ec7468c4",
   "metadata": {
    "execution": {
     "iopub.execute_input": "2022-02-05T01:02:29.040079Z",
     "iopub.status.busy": "2022-02-05T01:02:29.039364Z",
     "iopub.status.idle": "2022-02-05T01:02:29.041421Z",
     "shell.execute_reply": "2022-02-05T01:02:29.041867Z"
    },
    "papermill": {
     "duration": 0.022296,
     "end_time": "2022-02-05T01:02:29.042002",
     "exception": false,
     "start_time": "2022-02-05T01:02:29.019706",
     "status": "completed"
    },
    "tags": []
   },
   "outputs": [],
   "source": [
    "####"
   ]
  },
  {
   "cell_type": "code",
   "execution_count": 12,
   "id": "495bb050",
   "metadata": {
    "execution": {
     "iopub.execute_input": "2022-02-05T01:02:29.075928Z",
     "iopub.status.busy": "2022-02-05T01:02:29.075428Z",
     "iopub.status.idle": "2022-02-05T01:02:49.530068Z",
     "shell.execute_reply": "2022-02-05T01:02:49.529542Z"
    },
    "papermill": {
     "duration": 20.473224,
     "end_time": "2022-02-05T01:02:49.530207",
     "exception": false,
     "start_time": "2022-02-05T01:02:29.056983",
     "status": "completed"
    },
    "tags": []
   },
   "outputs": [],
   "source": [
    "test= pd.read_csv(\"../input/tabular-playground-series-feb-2022/test.csv\")           \n",
    "train_fold= pd.read_csv(\"../input/tps-feb-2022-kfold/train_folds.csv\") \n",
    "sample_sub=pd.read_csv(\"../input/tabular-playground-series-feb-2022/sample_submission.csv\")"
   ]
  },
  {
   "cell_type": "code",
   "execution_count": 13,
   "id": "561d39d1",
   "metadata": {
    "execution": {
     "iopub.execute_input": "2022-02-05T01:02:49.576443Z",
     "iopub.status.busy": "2022-02-05T01:02:49.575748Z",
     "iopub.status.idle": "2022-02-05T01:02:49.654825Z",
     "shell.execute_reply": "2022-02-05T01:02:49.654281Z"
    },
    "papermill": {
     "duration": 0.109119,
     "end_time": "2022-02-05T01:02:49.654987",
     "exception": false,
     "start_time": "2022-02-05T01:02:49.545868",
     "status": "completed"
    },
    "tags": []
   },
   "outputs": [],
   "source": [
    "targets = train_fold.target.unique()\n",
    "target_dict = {t: i for i, t in enumerate(targets)} \n",
    "target_dict_inv = {v: k for k, v in target_dict.items()}\n",
    "train_fold[\"target_map\"] = train_fold.target.map(target_dict)\n",
    "features = [c for c in train_fold.columns if c not in (\"target\", \"kfold\",\"target_map\")]\n",
    "target=\"target_map\"\n",
    "df_test=test[features]"
   ]
  },
  {
   "cell_type": "code",
   "execution_count": 14,
   "id": "c6cf3f41",
   "metadata": {
    "execution": {
     "iopub.execute_input": "2022-02-05T01:02:49.693625Z",
     "iopub.status.busy": "2022-02-05T01:02:49.692766Z",
     "iopub.status.idle": "2022-02-05T01:02:49.695259Z",
     "shell.execute_reply": "2022-02-05T01:02:49.694872Z"
    },
    "papermill": {
     "duration": 0.023573,
     "end_time": "2022-02-05T01:02:49.695372",
     "exception": false,
     "start_time": "2022-02-05T01:02:49.671799",
     "status": "completed"
    },
    "tags": []
   },
   "outputs": [],
   "source": [
    "params = {'max_depth': 10, 'subsample': 0.7, 'n_estimators': 5100, 'eta': 0.09999999999999999, 'reg_alpha': 1, 'reg_lambda': 73, 'min_child_weight': 5, 'colsample_bytree': 0.8377366123284274}"
   ]
  },
  {
   "cell_type": "code",
   "execution_count": 15,
   "id": "c9c79e5c",
   "metadata": {
    "execution": {
     "iopub.execute_input": "2022-02-05T01:02:49.734903Z",
     "iopub.status.busy": "2022-02-05T01:02:49.733768Z",
     "iopub.status.idle": "2022-02-05T02:31:30.797570Z",
     "shell.execute_reply": "2022-02-05T02:31:30.798162Z"
    },
    "papermill": {
     "duration": 5321.087267,
     "end_time": "2022-02-05T02:31:30.798366",
     "exception": false,
     "start_time": "2022-02-05T01:02:49.711099",
     "status": "completed"
    },
    "tags": []
   },
   "outputs": [
    {
     "name": "stdout",
     "output_type": "stream",
     "text": [
      "[01:02:52] WARNING: ../src/learner.cc:1115: Starting in XGBoost 1.3.0, the default evaluation metric used with the objective 'multi:softprob' was changed from 'merror' to 'mlogloss'. Explicitly set eval_metric if you'd like to restore the old behavior.\n",
      "0 0.995730085398292\n",
      "[01:15:31] WARNING: ../src/learner.cc:1115: Starting in XGBoost 1.3.0, the default evaluation metric used with the objective 'multi:softprob' was changed from 'merror' to 'mlogloss'. Explicitly set eval_metric if you'd like to restore the old behavior.\n",
      "1 0.99597508049839\n",
      "[01:28:10] WARNING: ../src/learner.cc:1115: Starting in XGBoost 1.3.0, the default evaluation metric used with the objective 'multi:softprob' was changed from 'merror' to 'mlogloss'. Explicitly set eval_metric if you'd like to restore the old behavior.\n",
      "2 0.9958700825983481\n",
      "[01:40:48] WARNING: ../src/learner.cc:1115: Starting in XGBoost 1.3.0, the default evaluation metric used with the objective 'multi:softprob' was changed from 'merror' to 'mlogloss'. Explicitly set eval_metric if you'd like to restore the old behavior.\n",
      "3 0.9964299464491967\n",
      "[01:53:30] WARNING: ../src/learner.cc:1115: Starting in XGBoost 1.3.0, the default evaluation metric used with the objective 'multi:softprob' was changed from 'merror' to 'mlogloss'. Explicitly set eval_metric if you'd like to restore the old behavior.\n",
      "4 0.995799936999055\n",
      "[02:06:14] WARNING: ../src/learner.cc:1115: Starting in XGBoost 1.3.0, the default evaluation metric used with the objective 'multi:softprob' was changed from 'merror' to 'mlogloss'. Explicitly set eval_metric if you'd like to restore the old behavior.\n",
      "5 0.9953799306989605\n",
      "[02:18:56] WARNING: ../src/learner.cc:1115: Starting in XGBoost 1.3.0, the default evaluation metric used with the objective 'multi:softprob' was changed from 'merror' to 'mlogloss'. Explicitly set eval_metric if you'd like to restore the old behavior.\n",
      "6 0.9965699485492282\n",
      "La media es 0.9959650015987815 y la desviación estándar es 0.00038097349529024225\n"
     ]
    }
   ],
   "source": [
    "cv_preds_test = []\n",
    "scores = []\n",
    "\n",
    "for fold in range(7):\n",
    "    X_train = train_fold[train_fold.kfold != fold].reset_index(drop=True)\n",
    "    X_valid = train_fold[train_fold.kfold == fold].reset_index(drop=True)\n",
    "    X_test = df_test.copy()\n",
    "    \n",
    "    y_train=X_train[target]\n",
    "    y_valid=X_valid[target]\n",
    "    \n",
    "    \n",
    "    X_train=X_train[features]\n",
    "    X_valid=X_valid[features]\n",
    "    \n",
    "    # Encoding e ingeniería de funciones\n",
    "    ##\n",
    "    ##\n",
    "    #\n",
    "    \n",
    "    \n",
    "    # Entrenamiento\n",
    "    model = XGBClassifier(random_state=fold, tree_method='gpu_hist', gpu_id=0, predictor=\"gpu_predictor\",**params)\n",
    "    model.fit(X_train,y_train)\n",
    "    preds_valid=model.predict(X_valid)\n",
    "    test_preds = model.predict(X_test)\n",
    "    cv_preds_test.append(test_preds)\n",
    "    acc = accuracy_score(y_valid, preds_valid)\n",
    "    print(fold, acc)\n",
    "    scores.append(acc)\n",
    "    \n",
    "print(f\"La media es {np.mean(scores)} y la desviación estándar es {np.std(scores)}\")"
   ]
  },
  {
   "cell_type": "code",
   "execution_count": 16,
   "id": "7482a789",
   "metadata": {
    "execution": {
     "iopub.execute_input": "2022-02-05T02:31:30.847349Z",
     "iopub.status.busy": "2022-02-05T02:31:30.846258Z",
     "iopub.status.idle": "2022-02-05T02:31:33.893946Z",
     "shell.execute_reply": "2022-02-05T02:31:33.894372Z"
    },
    "papermill": {
     "duration": 3.074715,
     "end_time": "2022-02-05T02:31:33.894552",
     "exception": false,
     "start_time": "2022-02-05T02:31:30.819837",
     "status": "completed"
    },
    "tags": []
   },
   "outputs": [],
   "source": [
    "sample_sub['target'] =stats.mode(np.column_stack(cv_preds_test), axis=1)[0]\n",
    "sample_sub['target']=sample_sub['target'].map(target_dict_inv)\n",
    "sample_sub.head(10)\n",
    "sample_sub.to_csv('submission.csv', index=False)"
   ]
  }
 ],
 "metadata": {
  "kernelspec": {
   "display_name": "Python 3",
   "language": "python",
   "name": "python3"
  },
  "language_info": {
   "codemirror_mode": {
    "name": "ipython",
    "version": 3
   },
   "file_extension": ".py",
   "mimetype": "text/x-python",
   "name": "python",
   "nbconvert_exporter": "python",
   "pygments_lexer": "ipython3",
   "version": "3.7.12"
  },
  "papermill": {
   "default_parameters": {},
   "duration": 6873.478031,
   "end_time": "2022-02-05T02:31:35.234480",
   "environment_variables": {},
   "exception": null,
   "input_path": "__notebook__.ipynb",
   "output_path": "__notebook__.ipynb",
   "parameters": {},
   "start_time": "2022-02-05T00:37:01.756449",
   "version": "2.3.3"
  }
 },
 "nbformat": 4,
 "nbformat_minor": 5
}
