{
 "cells": [
  {
   "cell_type": "markdown",
   "execution_count": null,
   "metadata": {
    "id": "2_qJgEDjZCbC",
    "papermill": {
     "duration": 0.0199,
     "end_time": "2020-08-27T06:32:26.862098",
     "exception": false,
     "start_time": "2020-08-27T06:32:26.842198",
     "status": "completed"
    },
    "tags": []
   },
   "source": [
    "# Stepwise Hyperparameter Tuning of XGBoost Classifier using Optuna"
   ]
  },
  {
   "cell_type": "markdown",
   "execution_count": null,
   "metadata": {
    "id": "wp3FsQIaZCbE",
    "papermill": {
     "duration": 0.018398,
     "end_time": "2020-08-27T06:32:26.898018",
     "exception": false,
     "start_time": "2020-08-27T06:32:26.879620",
     "status": "completed"
    },
    "tags": []
   },
   "source": [
    "**Highlights:**\n",
    "> 1. Demonstrate hyperparameter tuning using Optuna with an example.\n",
    ">\n",
    "> 2. Stepwise hyperparameter tuning of XGBoost classifier.\n",
    ">\n",
    "> 3. Demonstrate save and resume feature of Optuna\n",
    ">\n",
    "> 4. Hyperparameter tuning based on F1-score"
   ]
  },
  {
   "cell_type": "markdown",
   "execution_count": null,
   "metadata": {
    "papermill": {
     "duration": 0.017643,
     "end_time": "2020-08-27T06:32:26.932896",
     "exception": false,
     "start_time": "2020-08-27T06:32:26.915253",
     "status": "completed"
    },
    "tags": []
   },
   "source": [
    "* [1.   Import and Clean Data](#import-and-clean-data)\n",
    "    * [1.1.   Missing values](#missing-values)\n",
    "    * [1.2.   Deleting features](#deleting-features)\n",
    "    * [1.3.  Modifying `Cabin` feature](#modifying-%60cabin%60-feature)\n",
    "    * [1.4.   Find categorical columns and change their *Dtype* from `object` to `Categorical`](#find-categorical-columns-and-change-their-%2Adtype%2A-from-%60object%60-to-%60categorical%60)\n",
    "* [2.   Data Preprocessing](#data-preprocessing)\n",
    "    * [2.1.   Train-Test split](#train-test-split)\n",
    "    * [2.2.   One-hot Encoding and Standardization](#one-hot-encoding-and-standardization)\n",
    "* [3.   Utility Functions](#utility-functions)\n",
    "* [4. Evaluation metric](#evaluation-metric)\n",
    "* [5. XGBoost with default parameters](#xgboost-with-default-parameters)\n",
    "* [6. What is Optuna?](#what-is-optuna%3F)\n",
    "* [7. Stepwise Hyperparameter Tuning](#stepwise-hyperparameter-tuning)\n",
    "    * [7.1. Resuming the optimization process in Optuna](#resuming-the-optimization-process-in-optuna)\n",
    "* [8. Model Comparison](#model-comparison)"
   ]
  },
  {
   "cell_type": "code",
   "execution_count": 1,
   "metadata": {
    "execution": {
     "iopub.execute_input": "2020-08-27T06:32:26.977410Z",
     "iopub.status.busy": "2020-08-27T06:32:26.976583Z",
     "iopub.status.idle": "2020-08-27T06:32:28.006989Z",
     "shell.execute_reply": "2020-08-27T06:32:28.006104Z"
    },
    "id": "n_wZR8HYZCbF",
    "jupyter": {
     "outputs_hidden": true
    },
    "papermill": {
     "duration": 1.056914,
     "end_time": "2020-08-27T06:32:28.007138",
     "exception": false,
     "start_time": "2020-08-27T06:32:26.950224",
     "status": "completed"
    },
    "tags": []
   },
   "outputs": [],
   "source": [
    "import os, sys\n",
    "\n",
    "import numpy as np\n",
    "import pandas as pd\n",
    "\n",
    "import seaborn as sns\n",
    "import matplotlib.pyplot as plt\n",
    "%matplotlib inline"
   ]
  },
  {
   "cell_type": "markdown",
   "execution_count": null,
   "metadata": {
    "id": "nTJjK4NJZCbK",
    "papermill": {
     "duration": 0.017244,
     "end_time": "2020-08-27T06:32:28.042683",
     "exception": false,
     "start_time": "2020-08-27T06:32:28.025439",
     "status": "completed"
    },
    "tags": [],
    "toc-hr-collapsed": true,
    "toc-nb-collapsed": true
   },
   "source": [
    "<a id=\"import-and-clean-data\"></a>\n",
    "# 1.   Import and Clean Data"
   ]
  },
  {
   "cell_type": "code",
   "execution_count": 2,
   "metadata": {
    "execution": {
     "iopub.execute_input": "2020-08-27T06:32:28.084291Z",
     "iopub.status.busy": "2020-08-27T06:32:28.083446Z",
     "iopub.status.idle": "2020-08-27T06:32:28.098897Z",
     "shell.execute_reply": "2020-08-27T06:32:28.098228Z"
    },
    "id": "3psBwnRqZCbK",
    "jupyter": {
     "outputs_hidden": true
    },
    "papermill": {
     "duration": 0.038858,
     "end_time": "2020-08-27T06:32:28.099027",
     "exception": false,
     "start_time": "2020-08-27T06:32:28.060169",
     "status": "completed"
    },
    "tags": []
   },
   "outputs": [],
   "source": [
    "df = pd.read_csv('/kaggle/input/titanic/train.csv')"
   ]
  },
  {
   "cell_type": "code",
   "execution_count": 3,
   "metadata": {
    "execution": {
     "iopub.execute_input": "2020-08-27T06:32:28.151348Z",
     "iopub.status.busy": "2020-08-27T06:32:28.150207Z",
     "iopub.status.idle": "2020-08-27T06:32:28.163844Z",
     "shell.execute_reply": "2020-08-27T06:32:28.163193Z"
    },
    "id": "SC3JhXaMZCbO",
    "jupyter": {
     "outputs_hidden": true
    },
    "outputId": "7444a0c7-a0b2-4583-ab9a-2bf79d70dcab",
    "papermill": {
     "duration": 0.047355,
     "end_time": "2020-08-27T06:32:28.163979",
     "exception": false,
     "start_time": "2020-08-27T06:32:28.116624",
     "status": "completed"
    },
    "tags": []
   },
   "outputs": [
    {
     "data": {
      "text/html": [
       "<div>\n",
       "<style scoped>\n",
       "    .dataframe tbody tr th:only-of-type {\n",
       "        vertical-align: middle;\n",
       "    }\n",
       "\n",
       "    .dataframe tbody tr th {\n",
       "        vertical-align: top;\n",
       "    }\n",
       "\n",
       "    .dataframe thead th {\n",
       "        text-align: right;\n",
       "    }\n",
       "</style>\n",
       "<table border=\"1\" class=\"dataframe\">\n",
       "  <thead>\n",
       "    <tr style=\"text-align: right;\">\n",
       "      <th></th>\n",
       "      <th>PassengerId</th>\n",
       "      <th>Survived</th>\n",
       "      <th>Pclass</th>\n",
       "      <th>Name</th>\n",
       "      <th>Sex</th>\n",
       "      <th>Age</th>\n",
       "      <th>SibSp</th>\n",
       "      <th>Parch</th>\n",
       "      <th>Ticket</th>\n",
       "      <th>Fare</th>\n",
       "      <th>Cabin</th>\n",
       "      <th>Embarked</th>\n",
       "    </tr>\n",
       "  </thead>\n",
       "  <tbody>\n",
       "    <tr>\n",
       "      <th>0</th>\n",
       "      <td>1</td>\n",
       "      <td>0</td>\n",
       "      <td>3</td>\n",
       "      <td>Braund, Mr. Owen Harris</td>\n",
       "      <td>male</td>\n",
       "      <td>22.0</td>\n",
       "      <td>1</td>\n",
       "      <td>0</td>\n",
       "      <td>A/5 21171</td>\n",
       "      <td>7.2500</td>\n",
       "      <td>NaN</td>\n",
       "      <td>S</td>\n",
       "    </tr>\n",
       "    <tr>\n",
       "      <th>1</th>\n",
       "      <td>2</td>\n",
       "      <td>1</td>\n",
       "      <td>1</td>\n",
       "      <td>Cumings, Mrs. John Bradley (Florence Briggs Th...</td>\n",
       "      <td>female</td>\n",
       "      <td>38.0</td>\n",
       "      <td>1</td>\n",
       "      <td>0</td>\n",
       "      <td>PC 17599</td>\n",
       "      <td>71.2833</td>\n",
       "      <td>C85</td>\n",
       "      <td>C</td>\n",
       "    </tr>\n",
       "  </tbody>\n",
       "</table>\n",
       "</div>"
      ],
      "text/plain": [
       "   PassengerId  Survived  Pclass  \\\n",
       "0            1         0       3   \n",
       "1            2         1       1   \n",
       "\n",
       "                                                Name     Sex   Age  SibSp  \\\n",
       "0                            Braund, Mr. Owen Harris    male  22.0      1   \n",
       "1  Cumings, Mrs. John Bradley (Florence Briggs Th...  female  38.0      1   \n",
       "\n",
       "   Parch     Ticket     Fare Cabin Embarked  \n",
       "0      0  A/5 21171   7.2500   NaN        S  \n",
       "1      0   PC 17599  71.2833   C85        C  "
      ]
     },
     "execution_count": 3,
     "metadata": {},
     "output_type": "execute_result"
    }
   ],
   "source": [
    "df.head(2)"
   ]
  },
  {
   "cell_type": "markdown",
   "execution_count": null,
   "metadata": {
    "id": "38TrVlowZCbR",
    "papermill": {
     "duration": 0.01738,
     "end_time": "2020-08-27T06:32:28.199384",
     "exception": false,
     "start_time": "2020-08-27T06:32:28.182004",
     "status": "completed"
    },
    "tags": [],
    "toc-hr-collapsed": true
   },
   "source": [
    "<a id=\"missing-values\"></a>\n",
    "## 1.1.   Missing values"
   ]
  },
  {
   "cell_type": "code",
   "execution_count": 4,
   "metadata": {
    "execution": {
     "iopub.execute_input": "2020-08-27T06:32:28.244217Z",
     "iopub.status.busy": "2020-08-27T06:32:28.241546Z",
     "iopub.status.idle": "2020-08-27T06:32:28.249151Z",
     "shell.execute_reply": "2020-08-27T06:32:28.248414Z"
    },
    "id": "jFPDOT_TZCbS",
    "jupyter": {
     "outputs_hidden": true
    },
    "outputId": "485b03bd-0ba1-4e58-828b-2381b36f9c53",
    "papermill": {
     "duration": 0.032055,
     "end_time": "2020-08-27T06:32:28.249281",
     "exception": false,
     "start_time": "2020-08-27T06:32:28.217226",
     "status": "completed"
    },
    "tags": []
   },
   "outputs": [
    {
     "data": {
      "text/plain": [
       "PassengerId      0\n",
       "Survived         0\n",
       "Pclass           0\n",
       "Name             0\n",
       "Sex              0\n",
       "Age            177\n",
       "SibSp            0\n",
       "Parch            0\n",
       "Ticket           0\n",
       "Fare             0\n",
       "Cabin          687\n",
       "Embarked         2\n",
       "dtype: int64"
      ]
     },
     "execution_count": 4,
     "metadata": {},
     "output_type": "execute_result"
    }
   ],
   "source": [
    "df.isnull().sum()"
   ]
  },
  {
   "cell_type": "code",
   "execution_count": 5,
   "metadata": {
    "execution": {
     "iopub.execute_input": "2020-08-27T06:32:28.298674Z",
     "iopub.status.busy": "2020-08-27T06:32:28.296009Z",
     "iopub.status.idle": "2020-08-27T06:32:28.302519Z",
     "shell.execute_reply": "2020-08-27T06:32:28.301680Z"
    },
    "id": "JKrELWtmZCbV",
    "jupyter": {
     "outputs_hidden": true
    },
    "papermill": {
     "duration": 0.035678,
     "end_time": "2020-08-27T06:32:28.302652",
     "exception": false,
     "start_time": "2020-08-27T06:32:28.266974",
     "status": "completed"
    },
    "tags": []
   },
   "outputs": [],
   "source": [
    "df.dropna(subset=['Embarked'], inplace=True)"
   ]
  },
  {
   "cell_type": "code",
   "execution_count": 6,
   "metadata": {
    "execution": {
     "iopub.execute_input": "2020-08-27T06:32:28.348312Z",
     "iopub.status.busy": "2020-08-27T06:32:28.347136Z",
     "iopub.status.idle": "2020-08-27T06:32:28.352402Z",
     "shell.execute_reply": "2020-08-27T06:32:28.351779Z"
    },
    "id": "ewCG19AGZCbY",
    "jupyter": {
     "outputs_hidden": true
    },
    "outputId": "da926a7a-aa1c-483a-fe7a-16f252f0e099",
    "papermill": {
     "duration": 0.032053,
     "end_time": "2020-08-27T06:32:28.352530",
     "exception": false,
     "start_time": "2020-08-27T06:32:28.320477",
     "status": "completed"
    },
    "tags": []
   },
   "outputs": [
    {
     "data": {
      "text/plain": [
       "PassengerId      0\n",
       "Survived         0\n",
       "Pclass           0\n",
       "Name             0\n",
       "Sex              0\n",
       "Age            177\n",
       "SibSp            0\n",
       "Parch            0\n",
       "Ticket           0\n",
       "Fare             0\n",
       "Cabin          687\n",
       "Embarked         0\n",
       "dtype: int64"
      ]
     },
     "execution_count": 6,
     "metadata": {},
     "output_type": "execute_result"
    }
   ],
   "source": [
    "df.isnull().sum()"
   ]
  },
  {
   "cell_type": "markdown",
   "execution_count": null,
   "metadata": {
    "id": "tJcKw_wnZCbc",
    "papermill": {
     "duration": 0.017829,
     "end_time": "2020-08-27T06:32:28.388463",
     "exception": false,
     "start_time": "2020-08-27T06:32:28.370634",
     "status": "completed"
    },
    "tags": [],
    "toc-hr-collapsed": true
   },
   "source": [
    "<a id=\"deleting-features\"></a>\n",
    "## 1.2.   Deleting features"
   ]
  },
  {
   "cell_type": "markdown",
   "execution_count": null,
   "metadata": {
    "id": "aE92OTsqZCbd",
    "papermill": {
     "duration": 0.017714,
     "end_time": "2020-08-27T06:32:28.424395",
     "exception": false,
     "start_time": "2020-08-27T06:32:28.406681",
     "status": "completed"
    },
    "tags": []
   },
   "source": [
    "Since `PassengerId`, `Name`, and `Ticket` columns do not provide any relevant information in predicting the survival of a passenger, we can delete the columns."
   ]
  },
  {
   "cell_type": "code",
   "execution_count": 7,
   "metadata": {
    "execution": {
     "iopub.execute_input": "2020-08-27T06:32:28.470792Z",
     "iopub.status.busy": "2020-08-27T06:32:28.469732Z",
     "iopub.status.idle": "2020-08-27T06:32:28.473577Z",
     "shell.execute_reply": "2020-08-27T06:32:28.472854Z"
    },
    "id": "ZdMwV4IZZCbd",
    "jupyter": {
     "outputs_hidden": true
    },
    "papermill": {
     "duration": 0.031054,
     "end_time": "2020-08-27T06:32:28.473701",
     "exception": false,
     "start_time": "2020-08-27T06:32:28.442647",
     "status": "completed"
    },
    "tags": []
   },
   "outputs": [],
   "source": [
    "df.drop(columns=['PassengerId', 'Name', 'Ticket'], inplace=True)"
   ]
  },
  {
   "cell_type": "code",
   "execution_count": 8,
   "metadata": {
    "execution": {
     "iopub.execute_input": "2020-08-27T06:32:28.525192Z",
     "iopub.status.busy": "2020-08-27T06:32:28.524279Z",
     "iopub.status.idle": "2020-08-27T06:32:28.527997Z",
     "shell.execute_reply": "2020-08-27T06:32:28.528630Z"
    },
    "id": "DZZjeTSDZCbg",
    "jupyter": {
     "outputs_hidden": true
    },
    "outputId": "487b9ccd-c92b-4579-a8ce-382e5bd52a2e",
    "papermill": {
     "duration": 0.037261,
     "end_time": "2020-08-27T06:32:28.529091",
     "exception": false,
     "start_time": "2020-08-27T06:32:28.491830",
     "status": "completed"
    },
    "tags": []
   },
   "outputs": [
    {
     "name": "stdout",
     "output_type": "stream",
     "text": [
      "<class 'pandas.core.frame.DataFrame'>\n",
      "Int64Index: 889 entries, 0 to 890\n",
      "Data columns (total 9 columns):\n",
      " #   Column    Non-Null Count  Dtype  \n",
      "---  ------    --------------  -----  \n",
      " 0   Survived  889 non-null    int64  \n",
      " 1   Pclass    889 non-null    int64  \n",
      " 2   Sex       889 non-null    object \n",
      " 3   Age       712 non-null    float64\n",
      " 4   SibSp     889 non-null    int64  \n",
      " 5   Parch     889 non-null    int64  \n",
      " 6   Fare      889 non-null    float64\n",
      " 7   Cabin     202 non-null    object \n",
      " 8   Embarked  889 non-null    object \n",
      "dtypes: float64(2), int64(4), object(3)\n",
      "memory usage: 69.5+ KB\n"
     ]
    }
   ],
   "source": [
    "df.info()"
   ]
  },
  {
   "cell_type": "markdown",
   "execution_count": null,
   "metadata": {
    "papermill": {
     "duration": 0.017827,
     "end_time": "2020-08-27T06:32:28.566780",
     "exception": false,
     "start_time": "2020-08-27T06:32:28.548953",
     "status": "completed"
    },
    "tags": []
   },
   "source": [
    "<a id=\"modifying-%60cabin%60-feature\"></a>\n",
    "## 1.3.  Modifying `Cabin` feature\n",
    "Since there are several null values in the `cabin` feature, we will modify the features values as missing (1) and not missing (0)."
   ]
  },
  {
   "cell_type": "code",
   "execution_count": 9,
   "metadata": {
    "execution": {
     "iopub.execute_input": "2020-08-27T06:32:28.613836Z",
     "iopub.status.busy": "2020-08-27T06:32:28.612831Z",
     "iopub.status.idle": "2020-08-27T06:32:28.617732Z",
     "shell.execute_reply": "2020-08-27T06:32:28.617085Z"
    },
    "papermill": {
     "duration": 0.033099,
     "end_time": "2020-08-27T06:32:28.617880",
     "exception": false,
     "start_time": "2020-08-27T06:32:28.584781",
     "status": "completed"
    },
    "tags": []
   },
   "outputs": [
    {
     "data": {
      "text/plain": [
       "1    687\n",
       "0    202\n",
       "Name: Cabin, dtype: int64"
      ]
     },
     "execution_count": 9,
     "metadata": {},
     "output_type": "execute_result"
    }
   ],
   "source": [
    "df['Cabin'] = df['Cabin'].isnull().astype(int)\n",
    "df['Cabin'].value_counts()"
   ]
  },
  {
   "cell_type": "code",
   "execution_count": 10,
   "metadata": {
    "execution": {
     "iopub.execute_input": "2020-08-27T06:32:28.670606Z",
     "iopub.status.busy": "2020-08-27T06:32:28.669649Z",
     "iopub.status.idle": "2020-08-27T06:32:28.673792Z",
     "shell.execute_reply": "2020-08-27T06:32:28.674404Z"
    },
    "papermill": {
     "duration": 0.038194,
     "end_time": "2020-08-27T06:32:28.674561",
     "exception": false,
     "start_time": "2020-08-27T06:32:28.636367",
     "status": "completed"
    },
    "tags": []
   },
   "outputs": [
    {
     "data": {
      "text/html": [
       "<div>\n",
       "<style scoped>\n",
       "    .dataframe tbody tr th:only-of-type {\n",
       "        vertical-align: middle;\n",
       "    }\n",
       "\n",
       "    .dataframe tbody tr th {\n",
       "        vertical-align: top;\n",
       "    }\n",
       "\n",
       "    .dataframe thead th {\n",
       "        text-align: right;\n",
       "    }\n",
       "</style>\n",
       "<table border=\"1\" class=\"dataframe\">\n",
       "  <thead>\n",
       "    <tr style=\"text-align: right;\">\n",
       "      <th></th>\n",
       "      <th>Survived</th>\n",
       "      <th>Pclass</th>\n",
       "      <th>Sex</th>\n",
       "      <th>Age</th>\n",
       "      <th>SibSp</th>\n",
       "      <th>Parch</th>\n",
       "      <th>Fare</th>\n",
       "      <th>Cabin</th>\n",
       "      <th>Embarked</th>\n",
       "    </tr>\n",
       "  </thead>\n",
       "  <tbody>\n",
       "    <tr>\n",
       "      <th>0</th>\n",
       "      <td>0</td>\n",
       "      <td>3</td>\n",
       "      <td>male</td>\n",
       "      <td>22.0</td>\n",
       "      <td>1</td>\n",
       "      <td>0</td>\n",
       "      <td>7.2500</td>\n",
       "      <td>1</td>\n",
       "      <td>S</td>\n",
       "    </tr>\n",
       "    <tr>\n",
       "      <th>1</th>\n",
       "      <td>1</td>\n",
       "      <td>1</td>\n",
       "      <td>female</td>\n",
       "      <td>38.0</td>\n",
       "      <td>1</td>\n",
       "      <td>0</td>\n",
       "      <td>71.2833</td>\n",
       "      <td>0</td>\n",
       "      <td>C</td>\n",
       "    </tr>\n",
       "  </tbody>\n",
       "</table>\n",
       "</div>"
      ],
      "text/plain": [
       "   Survived  Pclass     Sex   Age  SibSp  Parch     Fare  Cabin Embarked\n",
       "0         0       3    male  22.0      1      0   7.2500      1        S\n",
       "1         1       1  female  38.0      1      0  71.2833      0        C"
      ]
     },
     "execution_count": 10,
     "metadata": {},
     "output_type": "execute_result"
    }
   ],
   "source": [
    "df.head(2)"
   ]
  },
  {
   "cell_type": "markdown",
   "execution_count": null,
   "metadata": {
    "id": "RqNLQDvtZCbj",
    "papermill": {
     "duration": 0.018306,
     "end_time": "2020-08-27T06:32:28.711734",
     "exception": false,
     "start_time": "2020-08-27T06:32:28.693428",
     "status": "completed"
    },
    "tags": [],
    "toc-hr-collapsed": true
   },
   "source": [
    "<a id=\"find-categorical-columns-and-change-their-%2Adtype%2A-from-%60object%60-to-%60categorical%60\"></a>\n",
    "## 1.4.   Find categorical columns and change their *Dtype* from `object` to `Categorical`"
   ]
  },
  {
   "cell_type": "markdown",
   "execution_count": null,
   "metadata": {
    "id": "U3IKJNDJZCbk",
    "papermill": {
     "duration": 0.018466,
     "end_time": "2020-08-27T06:32:28.748920",
     "exception": false,
     "start_time": "2020-08-27T06:32:28.730454",
     "status": "completed"
    },
    "tags": []
   },
   "source": [
    "Finding categorical features and converting their pandas *dtype* to `categorical` will ease visualization"
   ]
  },
  {
   "cell_type": "code",
   "execution_count": 11,
   "metadata": {
    "execution": {
     "iopub.execute_input": "2020-08-27T06:32:28.797779Z",
     "iopub.status.busy": "2020-08-27T06:32:28.797003Z",
     "iopub.status.idle": "2020-08-27T06:32:28.800428Z",
     "shell.execute_reply": "2020-08-27T06:32:28.799759Z"
    },
    "id": "Fc0o9c_6ZCbl",
    "jupyter": {
     "outputs_hidden": true
    },
    "papermill": {
     "duration": 0.032714,
     "end_time": "2020-08-27T06:32:28.800553",
     "exception": false,
     "start_time": "2020-08-27T06:32:28.767839",
     "status": "completed"
    },
    "tags": []
   },
   "outputs": [],
   "source": [
    "def summarize_categoricals(df, show_levels=False):\n",
    "    \"\"\"\n",
    "        Display uniqueness in each column\n",
    "    \"\"\"\n",
    "    data = [[df[c].unique(), len(df[c].unique()), df[c].isnull().sum()] for c in df.columns]\n",
    "    df_temp = pd.DataFrame(data, index=df.columns,\n",
    "                           columns=['Levels', 'No. of Levels', 'No. of Missing Values'])\n",
    "    return df_temp.iloc[:, 0 if show_levels else 1:]\n",
    "\n",
    "\n",
    "def to_categorical(columns, df):\n",
    "    \"\"\"\n",
    "        Converts the columns passed in `columns` to categorical datatype\n",
    "    \"\"\"\n",
    "    for col in columns:\n",
    "        df[col] = df[col].astype('category')\n",
    "    return df"
   ]
  },
  {
   "cell_type": "code",
   "execution_count": 12,
   "metadata": {
    "execution": {
     "iopub.execute_input": "2020-08-27T06:32:28.846071Z",
     "iopub.status.busy": "2020-08-27T06:32:28.845200Z",
     "iopub.status.idle": "2020-08-27T06:32:28.870165Z",
     "shell.execute_reply": "2020-08-27T06:32:28.869372Z"
    },
    "id": "v2zL2NTRZCbo",
    "jupyter": {
     "outputs_hidden": true
    },
    "outputId": "25456e2d-f6e9-4f94-9db5-b140f822bbd9",
    "papermill": {
     "duration": 0.050786,
     "end_time": "2020-08-27T06:32:28.870299",
     "exception": false,
     "start_time": "2020-08-27T06:32:28.819513",
     "status": "completed"
    },
    "tags": []
   },
   "outputs": [
    {
     "data": {
      "text/html": [
       "<div>\n",
       "<style scoped>\n",
       "    .dataframe tbody tr th:only-of-type {\n",
       "        vertical-align: middle;\n",
       "    }\n",
       "\n",
       "    .dataframe tbody tr th {\n",
       "        vertical-align: top;\n",
       "    }\n",
       "\n",
       "    .dataframe thead th {\n",
       "        text-align: right;\n",
       "    }\n",
       "</style>\n",
       "<table border=\"1\" class=\"dataframe\">\n",
       "  <thead>\n",
       "    <tr style=\"text-align: right;\">\n",
       "      <th></th>\n",
       "      <th>Levels</th>\n",
       "      <th>No. of Levels</th>\n",
       "      <th>No. of Missing Values</th>\n",
       "    </tr>\n",
       "  </thead>\n",
       "  <tbody>\n",
       "    <tr>\n",
       "      <th>Survived</th>\n",
       "      <td>[0, 1]</td>\n",
       "      <td>2</td>\n",
       "      <td>0</td>\n",
       "    </tr>\n",
       "    <tr>\n",
       "      <th>Pclass</th>\n",
       "      <td>[3, 1, 2]</td>\n",
       "      <td>3</td>\n",
       "      <td>0</td>\n",
       "    </tr>\n",
       "    <tr>\n",
       "      <th>Sex</th>\n",
       "      <td>[male, female]</td>\n",
       "      <td>2</td>\n",
       "      <td>0</td>\n",
       "    </tr>\n",
       "    <tr>\n",
       "      <th>Age</th>\n",
       "      <td>[22.0, 38.0, 26.0, 35.0, nan, 54.0, 2.0, 27.0,...</td>\n",
       "      <td>89</td>\n",
       "      <td>177</td>\n",
       "    </tr>\n",
       "    <tr>\n",
       "      <th>SibSp</th>\n",
       "      <td>[1, 0, 3, 4, 2, 5, 8]</td>\n",
       "      <td>7</td>\n",
       "      <td>0</td>\n",
       "    </tr>\n",
       "    <tr>\n",
       "      <th>Parch</th>\n",
       "      <td>[0, 1, 2, 5, 3, 4, 6]</td>\n",
       "      <td>7</td>\n",
       "      <td>0</td>\n",
       "    </tr>\n",
       "    <tr>\n",
       "      <th>Fare</th>\n",
       "      <td>[7.25, 71.2833, 7.925, 53.1, 8.05, 8.4583, 51....</td>\n",
       "      <td>247</td>\n",
       "      <td>0</td>\n",
       "    </tr>\n",
       "    <tr>\n",
       "      <th>Cabin</th>\n",
       "      <td>[1, 0]</td>\n",
       "      <td>2</td>\n",
       "      <td>0</td>\n",
       "    </tr>\n",
       "    <tr>\n",
       "      <th>Embarked</th>\n",
       "      <td>[S, C, Q]</td>\n",
       "      <td>3</td>\n",
       "      <td>0</td>\n",
       "    </tr>\n",
       "  </tbody>\n",
       "</table>\n",
       "</div>"
      ],
      "text/plain": [
       "                                                     Levels  No. of Levels  \\\n",
       "Survived                                             [0, 1]              2   \n",
       "Pclass                                            [3, 1, 2]              3   \n",
       "Sex                                          [male, female]              2   \n",
       "Age       [22.0, 38.0, 26.0, 35.0, nan, 54.0, 2.0, 27.0,...             89   \n",
       "SibSp                                 [1, 0, 3, 4, 2, 5, 8]              7   \n",
       "Parch                                 [0, 1, 2, 5, 3, 4, 6]              7   \n",
       "Fare      [7.25, 71.2833, 7.925, 53.1, 8.05, 8.4583, 51....            247   \n",
       "Cabin                                                [1, 0]              2   \n",
       "Embarked                                          [S, C, Q]              3   \n",
       "\n",
       "          No. of Missing Values  \n",
       "Survived                      0  \n",
       "Pclass                        0  \n",
       "Sex                           0  \n",
       "Age                         177  \n",
       "SibSp                         0  \n",
       "Parch                         0  \n",
       "Fare                          0  \n",
       "Cabin                         0  \n",
       "Embarked                      0  "
      ]
     },
     "execution_count": 12,
     "metadata": {},
     "output_type": "execute_result"
    }
   ],
   "source": [
    "summarize_categoricals(df, show_levels=True)"
   ]
  },
  {
   "cell_type": "code",
   "execution_count": 13,
   "metadata": {
    "execution": {
     "iopub.execute_input": "2020-08-27T06:32:28.924210Z",
     "iopub.status.busy": "2020-08-27T06:32:28.923087Z",
     "iopub.status.idle": "2020-08-27T06:32:28.926933Z",
     "shell.execute_reply": "2020-08-27T06:32:28.926334Z"
    },
    "id": "0Vq1TIGzZCbr",
    "jupyter": {
     "outputs_hidden": true
    },
    "papermill": {
     "duration": 0.037506,
     "end_time": "2020-08-27T06:32:28.927072",
     "exception": false,
     "start_time": "2020-08-27T06:32:28.889566",
     "status": "completed"
    },
    "tags": []
   },
   "outputs": [],
   "source": [
    "df = to_categorical(['Survived', 'Pclass', 'Sex',\n",
    "                     'SibSp', 'Parch', 'Cabin', 'Embarked'], df)"
   ]
  },
  {
   "cell_type": "code",
   "execution_count": 14,
   "metadata": {
    "execution": {
     "iopub.execute_input": "2020-08-27T06:32:28.972073Z",
     "iopub.status.busy": "2020-08-27T06:32:28.970964Z",
     "iopub.status.idle": "2020-08-27T06:32:28.984320Z",
     "shell.execute_reply": "2020-08-27T06:32:28.983399Z"
    },
    "id": "cFFOh4K0ZCbu",
    "jupyter": {
     "outputs_hidden": true
    },
    "outputId": "9a8ec351-abc1-46e9-9a45-65d7d933d01c",
    "papermill": {
     "duration": 0.038078,
     "end_time": "2020-08-27T06:32:28.984503",
     "exception": false,
     "start_time": "2020-08-27T06:32:28.946425",
     "status": "completed"
    },
    "tags": []
   },
   "outputs": [
    {
     "name": "stdout",
     "output_type": "stream",
     "text": [
      "<class 'pandas.core.frame.DataFrame'>\n",
      "Int64Index: 889 entries, 0 to 890\n",
      "Data columns (total 9 columns):\n",
      " #   Column    Non-Null Count  Dtype   \n",
      "---  ------    --------------  -----   \n",
      " 0   Survived  889 non-null    category\n",
      " 1   Pclass    889 non-null    category\n",
      " 2   Sex       889 non-null    category\n",
      " 3   Age       712 non-null    float64 \n",
      " 4   SibSp     889 non-null    category\n",
      " 5   Parch     889 non-null    category\n",
      " 6   Fare      889 non-null    float64 \n",
      " 7   Cabin     889 non-null    category\n",
      " 8   Embarked  889 non-null    category\n",
      "dtypes: category(7), float64(2)\n",
      "memory usage: 28.1 KB\n"
     ]
    }
   ],
   "source": [
    "df.info()"
   ]
  },
  {
   "cell_type": "markdown",
   "execution_count": null,
   "metadata": {
    "id": "INDOIj8KZCcf",
    "papermill": {
     "duration": 0.019392,
     "end_time": "2020-08-27T06:32:29.024168",
     "exception": false,
     "start_time": "2020-08-27T06:32:29.004776",
     "status": "completed"
    },
    "tags": []
   },
   "source": [
    "<a id=\"data-preprocessing\"></a>\n",
    "# 2.   Data Preprocessing"
   ]
  },
  {
   "cell_type": "code",
   "execution_count": 15,
   "metadata": {
    "execution": {
     "iopub.execute_input": "2020-08-27T06:32:29.096276Z",
     "iopub.status.busy": "2020-08-27T06:32:29.095465Z",
     "iopub.status.idle": "2020-08-27T06:32:29.099328Z",
     "shell.execute_reply": "2020-08-27T06:32:29.098584Z"
    },
    "id": "wQ3UO0d4ZCcg",
    "jupyter": {
     "outputs_hidden": true
    },
    "papermill": {
     "duration": 0.055845,
     "end_time": "2020-08-27T06:32:29.099453",
     "exception": false,
     "start_time": "2020-08-27T06:32:29.043608",
     "status": "completed"
    },
    "tags": []
   },
   "outputs": [],
   "source": [
    "x = df.iloc[:, 1:]\n",
    "y = df['Survived']\n",
    "\n",
    "categorical_columns = list(x.select_dtypes(include='category').columns)\n",
    "numeric_columns = list(x.select_dtypes(exclude='category').columns)"
   ]
  },
  {
   "cell_type": "code",
   "execution_count": 16,
   "metadata": {
    "execution": {
     "iopub.execute_input": "2020-08-27T06:32:29.144216Z",
     "iopub.status.busy": "2020-08-27T06:32:29.143367Z",
     "iopub.status.idle": "2020-08-27T06:32:29.148380Z",
     "shell.execute_reply": "2020-08-27T06:32:29.147615Z"
    },
    "papermill": {
     "duration": 0.029584,
     "end_time": "2020-08-27T06:32:29.148508",
     "exception": false,
     "start_time": "2020-08-27T06:32:29.118924",
     "status": "completed"
    },
    "tags": []
   },
   "outputs": [
    {
     "data": {
      "text/plain": [
       "(['Pclass', 'Sex', 'SibSp', 'Parch', 'Cabin', 'Embarked'], ['Age', 'Fare'])"
      ]
     },
     "execution_count": 16,
     "metadata": {},
     "output_type": "execute_result"
    }
   ],
   "source": [
    "categorical_columns, numeric_columns"
   ]
  },
  {
   "cell_type": "markdown",
   "execution_count": null,
   "metadata": {
    "id": "zlt5ERBzZCci",
    "papermill": {
     "duration": 0.019508,
     "end_time": "2020-08-27T06:32:29.188204",
     "exception": false,
     "start_time": "2020-08-27T06:32:29.168696",
     "status": "completed"
    },
    "tags": []
   },
   "source": [
    "<a id=\"train-test-split\"></a>\n",
    "## 2.1.   Train-Test split"
   ]
  },
  {
   "cell_type": "code",
   "execution_count": 17,
   "metadata": {
    "execution": {
     "iopub.execute_input": "2020-08-27T06:32:29.235149Z",
     "iopub.status.busy": "2020-08-27T06:32:29.234368Z",
     "iopub.status.idle": "2020-08-27T06:32:29.370188Z",
     "shell.execute_reply": "2020-08-27T06:32:29.369410Z"
    },
    "id": "6zyBdlHZZCcj",
    "outputId": "b5f38542-af09-4191-86b9-b87e18163b2b",
    "papermill": {
     "duration": 0.162662,
     "end_time": "2020-08-27T06:32:29.370317",
     "exception": false,
     "start_time": "2020-08-27T06:32:29.207655",
     "status": "completed"
    },
    "tags": []
   },
   "outputs": [
    {
     "data": {
      "text/plain": [
       "[(889, 8), (889,), (666, 8), (223, 8), (666,), (223,)]"
      ]
     },
     "execution_count": 17,
     "metadata": {},
     "output_type": "execute_result"
    }
   ],
   "source": [
    "from sklearn.model_selection import train_test_split\n",
    "\n",
    "data_splits = train_test_split(x, y, test_size=0.25, random_state=0,\n",
    "                               shuffle=True, stratify=y)\n",
    "x_train, x_test, y_train, y_test = data_splits\n",
    "\n",
    "list(map(lambda x: x.shape, [x, y, x_train, x_test, y_train, y_test]))"
   ]
  },
  {
   "cell_type": "code",
   "execution_count": 18,
   "metadata": {
    "execution": {
     "iopub.execute_input": "2020-08-27T06:32:29.420542Z",
     "iopub.status.busy": "2020-08-27T06:32:29.419433Z",
     "iopub.status.idle": "2020-08-27T06:32:29.424064Z",
     "shell.execute_reply": "2020-08-27T06:32:29.423264Z"
    },
    "id": "N0ahoHU3ZCcm",
    "outputId": "4a442d9d-ffe4-4da5-c7ac-973c74fd4880",
    "papermill": {
     "duration": 0.034017,
     "end_time": "2020-08-27T06:32:29.424201",
     "exception": false,
     "start_time": "2020-08-27T06:32:29.390184",
     "status": "completed"
    },
    "tags": []
   },
   "outputs": [
    {
     "data": {
      "text/plain": [
       "0    138\n",
       "1     85\n",
       "Name: Survived, dtype: int64"
      ]
     },
     "execution_count": 18,
     "metadata": {},
     "output_type": "execute_result"
    }
   ],
   "source": [
    "pd.Series(y_test).value_counts()"
   ]
  },
  {
   "cell_type": "code",
   "execution_count": 19,
   "metadata": {
    "execution": {
     "iopub.execute_input": "2020-08-27T06:32:29.473986Z",
     "iopub.status.busy": "2020-08-27T06:32:29.472270Z",
     "iopub.status.idle": "2020-08-27T06:32:29.657137Z",
     "shell.execute_reply": "2020-08-27T06:32:29.656454Z"
    },
    "id": "Xvs473uuZCco",
    "outputId": "f756e0ec-4a6f-4b8d-e678-a0c124493889",
    "papermill": {
     "duration": 0.212732,
     "end_time": "2020-08-27T06:32:29.657273",
     "exception": false,
     "start_time": "2020-08-27T06:32:29.444541",
     "status": "completed"
    },
    "tags": []
   },
   "outputs": [
    {
     "data": {
      "image/png": "[encoded data removed]",
      "text/plain": [
       "<Figure size 432x288 with 1 Axes>"
      ]
     },
     "metadata": {
      "needs_background": "light"
     },
     "output_type": "display_data"
    }
   ],
   "source": [
    "sns.countplot(x=y_test);"
   ]
  },
  {
   "cell_type": "markdown",
   "execution_count": null,
   "metadata": {
    "papermill": {
     "duration": 0.020102,
     "end_time": "2020-08-27T06:32:29.697851",
     "exception": false,
     "start_time": "2020-08-27T06:32:29.677749",
     "status": "completed"
    },
    "tags": []
   },
   "source": [
    "Since the dataset is imbalanced we will be using class-weighted/ cost-sensitive learning. In cost-sensitive learning, a weighted cost function is used. Therefore, misclassifying a sample from the minority class will cost the classifiers more than misclassifying a sample from the majority class. In most of the Sklearn classifiers, cost-sensitive learning can be enabled by setting `class_weight='balanced'`."
   ]
  },
  {
   "cell_type": "markdown",
   "execution_count": null,
   "metadata": {
    "id": "PiBuC-a-ZCcr",
    "papermill": {
     "duration": 0.019989,
     "end_time": "2020-08-27T06:32:29.738192",
     "exception": false,
     "start_time": "2020-08-27T06:32:29.718203",
     "status": "completed"
    },
    "tags": []
   },
   "source": [
    "<a id=\"one-hot-encoding-and-standardization\"></a>\n",
    "## 2.2.   One-hot Encoding and Standardization\n",
    "We need to standardize the continuous or quantitative variables/ features before applying Machine Learning models. This is important because if we don't standardize the features, features with high variance that are orders of magnitude larger that others might dominate the model fitting process and causing the model unable to learn from other features (with lower variance) correctly as expected. <br/>\n",
    "There is no need to standardize categorical variables.\n",
    "\n",
    "***Also we need to standardize the data only after performing train-test split because if we standardize before splitting then there is a chance for some information leak from the test set into the train set. We always want the test set to be completely new to the ML models. [Read more](https://scikit-learn.org/stable/modules/compose.html#columntransformer-for-heterogeneous-data)***"
   ]
  },
  {
   "cell_type": "code",
   "execution_count": 20,
   "metadata": {
    "execution": {
     "iopub.execute_input": "2020-08-27T06:32:29.786142Z",
     "iopub.status.busy": "2020-08-27T06:32:29.785341Z",
     "iopub.status.idle": "2020-08-27T06:32:29.792996Z",
     "shell.execute_reply": "2020-08-27T06:32:29.792232Z"
    },
    "id": "MR28s2_bZCcr",
    "outputId": "3604fd46-7e38-40f4-a158-217c89fd95c1",
    "papermill": {
     "duration": 0.034502,
     "end_time": "2020-08-27T06:32:29.793130",
     "exception": false,
     "start_time": "2020-08-27T06:32:29.758628",
     "status": "completed"
    },
    "tags": []
   },
   "outputs": [
    {
     "data": {
      "text/plain": [
       "Survived      0\n",
       "Pclass        0\n",
       "Sex           0\n",
       "Age         177\n",
       "SibSp         0\n",
       "Parch         0\n",
       "Fare          0\n",
       "Cabin         0\n",
       "Embarked      0\n",
       "dtype: int64"
      ]
     },
     "execution_count": 20,
     "metadata": {},
     "output_type": "execute_result"
    }
   ],
   "source": [
    "df.isnull().sum()"
   ]
  },
  {
   "cell_type": "markdown",
   "execution_count": null,
   "metadata": {
    "id": "fp1i5nqxZCcu",
    "papermill": {
     "duration": 0.020005,
     "end_time": "2020-08-27T06:32:29.833840",
     "exception": false,
     "start_time": "2020-08-27T06:32:29.813835",
     "status": "completed"
    },
    "tags": []
   },
   "source": [
    "We need to impute values in `Age`."
   ]
  },
  {
   "cell_type": "code",
   "execution_count": 21,
   "metadata": {
    "execution": {
     "iopub.execute_input": "2020-08-27T06:32:29.887470Z",
     "iopub.status.busy": "2020-08-27T06:32:29.886662Z",
     "iopub.status.idle": "2020-08-27T06:32:30.083644Z",
     "shell.execute_reply": "2020-08-27T06:32:30.082793Z"
    },
    "id": "aczOr410ZCcv",
    "jupyter": {
     "outputs_hidden": true
    },
    "papermill": {
     "duration": 0.229572,
     "end_time": "2020-08-27T06:32:30.083774",
     "exception": false,
     "start_time": "2020-08-27T06:32:29.854202",
     "status": "completed"
    },
    "tags": []
   },
   "outputs": [],
   "source": [
    "from sklearn.compose import ColumnTransformer\n",
    "from sklearn.preprocessing import OneHotEncoder, StandardScaler, LabelEncoder\n",
    "from sklearn.impute import SimpleImputer\n",
    "from sklearn.pipeline import Pipeline \n",
    "\n",
    "\n",
    "numeric_transformer = Pipeline(steps=[\n",
    "    ('imputer', SimpleImputer(strategy='mean')),\n",
    "    ('scaler', StandardScaler())\n",
    "])\n",
    "\n",
    "categorical_transformer = Pipeline(steps=[\n",
    "    ('onehot', OneHotEncoder(drop='first', dtype=np.int))\n",
    "])\n",
    "\n",
    "## Column Transformer\n",
    "preprocessor = ColumnTransformer(\n",
    "    transformers=[\n",
    "        ('num', numeric_transformer, numeric_columns),\n",
    "        ('cat', categorical_transformer, categorical_columns)\n",
    "    ])\n",
    "\n",
    "\n",
    "## Applying Column Transformer\n",
    "x_train = preprocessor.fit_transform(x_train)\n",
    "x_test = preprocessor.transform(x_test)\n",
    "\n",
    "\n",
    "## Label encoding\n",
    "y_trans = LabelEncoder()\n",
    "y_train = y_trans.fit_transform(y_train)\n",
    "y_test = y_trans.transform(y_test)\n",
    "\n",
    "\n",
    "## Save feature names after one-hot encoding for feature importances plots\n",
    "feature_names = list(preprocessor.named_transformers_['cat'].named_steps['onehot'] \\\n",
    "                            .get_feature_names(input_features=categorical_columns))\n",
    "feature_names = feature_names + numeric_columns"
   ]
  },
  {
   "cell_type": "markdown",
   "execution_count": null,
   "metadata": {
    "papermill": {
     "duration": 0.020474,
     "end_time": "2020-08-27T06:32:30.126038",
     "exception": false,
     "start_time": "2020-08-27T06:32:30.105564",
     "status": "completed"
    },
    "tags": []
   },
   "source": [
    "<a id=\"utility-functions\"></a>\n",
    "# 3.   Utility Functions"
   ]
  },
  {
   "cell_type": "code",
   "execution_count": 22,
   "metadata": {
    "Collapsed": "false",
    "execution": {
     "iopub.execute_input": "2020-08-27T06:32:30.174241Z",
     "iopub.status.busy": "2020-08-27T06:32:30.173442Z",
     "iopub.status.idle": "2020-08-27T06:32:30.177285Z",
     "shell.execute_reply": "2020-08-27T06:32:30.176514Z"
    },
    "id": "WIgCBH94ZCcy",
    "papermill": {
     "duration": 0.030891,
     "end_time": "2020-08-27T06:32:30.177427",
     "exception": false,
     "start_time": "2020-08-27T06:32:30.146536",
     "status": "completed"
    },
    "tags": []
   },
   "outputs": [],
   "source": [
    "import timeit\n",
    "import pickle\n",
    "import sys\n",
    "from sklearn.metrics import confusion_matrix, classification_report, roc_auc_score, \\\n",
    "                            precision_recall_curve, roc_curve, accuracy_score\n",
    "from sklearn.exceptions import NotFittedError"
   ]
  },
  {
   "cell_type": "code",
   "execution_count": 23,
   "metadata": {
    "Collapsed": "false",
    "execution": {
     "iopub.execute_input": "2020-08-27T06:32:30.278449Z",
     "iopub.status.busy": "2020-08-27T06:32:30.277617Z",
     "iopub.status.idle": "2020-08-27T06:32:30.280963Z",
     "shell.execute_reply": "2020-08-27T06:32:30.281508Z"
    },
    "id": "EyD-IKETZCc1",
    "papermill": {
     "duration": 0.033286,
     "end_time": "2020-08-27T06:32:30.281676",
     "exception": false,
     "start_time": "2020-08-27T06:32:30.248390",
     "status": "completed"
    },
    "tags": []
   },
   "outputs": [],
   "source": [
    "def confusion_plot(matrix, labels=None):\n",
    "    \"\"\" Display binary confusion matrix as a Seaborn heatmap \"\"\"\n",
    "    \n",
    "    labels = labels if labels else ['Negative (0)', 'Positive (1)']\n",
    "    \n",
    "    fig, ax = plt.subplots(nrows=1, ncols=1)\n",
    "    sns.heatmap(data=matrix, cmap='Blues', annot=True, fmt='d',\n",
    "                xticklabels=labels, yticklabels=labels, ax=ax)\n",
    "    ax.set_xlabel('PREDICTED')\n",
    "    ax.set_ylabel('ACTUAL')\n",
    "    ax.set_title('Confusion Matrix')\n",
    "    plt.close()\n",
    "    \n",
    "    return fig"
   ]
  },
  {
   "cell_type": "code",
   "execution_count": 24,
   "metadata": {
    "Collapsed": "false",
    "execution": {
     "iopub.execute_input": "2020-08-27T06:32:30.339459Z",
     "iopub.status.busy": "2020-08-27T06:32:30.338670Z",
     "iopub.status.idle": "2020-08-27T06:32:30.341917Z",
     "shell.execute_reply": "2020-08-27T06:32:30.342479Z"
    },
    "id": "Gd3Aq4uVZCc4",
    "papermill": {
     "duration": 0.040245,
     "end_time": "2020-08-27T06:32:30.342650",
     "exception": false,
     "start_time": "2020-08-27T06:32:30.302405",
     "status": "completed"
    },
    "tags": []
   },
   "outputs": [],
   "source": [
    "def roc_plot(y_true, y_probs, label, compare=False, ax=None):\n",
    "    \"\"\" Plot Receiver Operating Characteristic (ROC) curve \n",
    "        Set `compare=True` to use this function to compare classifiers. \"\"\"\n",
    "    \n",
    "    fpr, tpr, thresh = roc_curve(y_true, y_probs,\n",
    "                                 drop_intermediate=False)\n",
    "    auc = round(roc_auc_score(y_true, y_probs), 2)\n",
    "    \n",
    "    fig, axis = (None, ax) if ax else plt.subplots(nrows=1, ncols=1)\n",
    "    label = ' '.join([label, f'({auc})']) if compare else None\n",
    "    sns.lineplot(x=fpr, y=tpr, ax=axis, label=label)\n",
    "    \n",
    "    if compare:\n",
    "        axis.legend(title='Classifier (AUC)', loc='lower right')\n",
    "    else:\n",
    "        axis.text(0.72, 0.05, f'AUC = { auc }', fontsize=12,\n",
    "                  bbox=dict(facecolor='green', alpha=0.4, pad=5))\n",
    "            \n",
    "        # Plot No-Info classifier\n",
    "        axis.fill_between(fpr, fpr, tpr, alpha=0.3, edgecolor='g',\n",
    "                          linestyle='--', linewidth=2)\n",
    "        \n",
    "    axis.set_xlim(0, 1)\n",
    "    axis.set_ylim(0, 1)\n",
    "    axis.set_title('ROC Curve')\n",
    "    axis.set_xlabel('False Positive Rate [FPR]\\n(1 - Specificity)')\n",
    "    axis.set_ylabel('True Positive Rate [TPR]\\n(Sensitivity or Recall)')\n",
    "    \n",
    "    plt.close()\n",
    "    \n",
    "    return axis if ax else fig"
   ]
  },
  {
   "cell_type": "code",
   "execution_count": 25,
   "metadata": {
    "Collapsed": "false",
    "execution": {
     "iopub.execute_input": "2020-08-27T06:32:30.400080Z",
     "iopub.status.busy": "2020-08-27T06:32:30.398233Z",
     "iopub.status.idle": "2020-08-27T06:32:30.403912Z",
     "shell.execute_reply": "2020-08-27T06:32:30.403262Z"
    },
    "id": "bOcPEwMvZCc7",
    "papermill": {
     "duration": 0.040626,
     "end_time": "2020-08-27T06:32:30.404051",
     "exception": false,
     "start_time": "2020-08-27T06:32:30.363425",
     "status": "completed"
    },
    "tags": []
   },
   "outputs": [],
   "source": [
    "def precision_recall_plot(y_true, y_probs, label, compare=False, ax=None):\n",
    "    \"\"\" Plot Precision-Recall curve.\n",
    "        Set `compare=True` to use this function to compare classifiers. \"\"\"\n",
    "    \n",
    "    p, r, thresh = precision_recall_curve(y_true, y_probs)\n",
    "    p, r, thresh = list(p), list(r), list(thresh)\n",
    "    p.pop()\n",
    "    r.pop()\n",
    "    \n",
    "    fig, axis = (None, ax) if ax else plt.subplots(nrows=1, ncols=1)\n",
    "    \n",
    "    if compare:\n",
    "        sns.lineplot(r, p, ax=axis, label=label)\n",
    "        axis.set_xlabel('Recall')\n",
    "        axis.set_ylabel('Precision')\n",
    "        axis.legend(loc='lower left')\n",
    "    else:\n",
    "        sns.lineplot(thresh, p, label='Precision', ax=axis)\n",
    "        axis.set_xlabel('Threshold')\n",
    "        axis.set_ylabel('Precision')\n",
    "        axis.legend(loc='lower left')\n",
    "\n",
    "        axis_twin = axis.twinx()\n",
    "        sns.lineplot(thresh, r, color='limegreen', label='Recall', ax=axis_twin)\n",
    "        axis_twin.set_ylabel('Recall')\n",
    "        axis_twin.set_ylim(0, 1)\n",
    "        axis_twin.legend(bbox_to_anchor=(0.24, 0.18))\n",
    "    \n",
    "    axis.set_xlim(0, 1)\n",
    "    axis.set_ylim(0, 1)\n",
    "    axis.set_title('Precision Vs Recall')\n",
    "    \n",
    "    plt.close()\n",
    "    \n",
    "    return axis if ax else fig"
   ]
  },
  {
   "cell_type": "code",
   "execution_count": 26,
   "metadata": {
    "Collapsed": "false",
    "execution": {
     "iopub.execute_input": "2020-08-27T06:32:30.454763Z",
     "iopub.status.busy": "2020-08-27T06:32:30.453961Z",
     "iopub.status.idle": "2020-08-27T06:32:30.457467Z",
     "shell.execute_reply": "2020-08-27T06:32:30.456696Z"
    },
    "id": "9HxflgdSZCc9",
    "papermill": {
     "duration": 0.03257,
     "end_time": "2020-08-27T06:32:30.457618",
     "exception": false,
     "start_time": "2020-08-27T06:32:30.425048",
     "status": "completed"
    },
    "tags": []
   },
   "outputs": [],
   "source": [
    "def feature_importance_plot(importances, feature_labels, ax=None):\n",
    "    fig, axis = (None, ax) if ax else plt.subplots(nrows=1, ncols=1, figsize=(5, 10))\n",
    "    sns.barplot(x=importances, y=feature_labels, ax=axis)\n",
    "    axis.set_title('Feature Importance Measures')\n",
    "    \n",
    "    plt.close()\n",
    "    \n",
    "    return axis if ax else fig"
   ]
  },
  {
   "cell_type": "code",
   "execution_count": 27,
   "metadata": {
    "Collapsed": "false",
    "execution": {
     "iopub.execute_input": "2020-08-27T06:32:30.510738Z",
     "iopub.status.busy": "2020-08-27T06:32:30.509752Z",
     "iopub.status.idle": "2020-08-27T06:32:30.513158Z",
     "shell.execute_reply": "2020-08-27T06:32:30.512351Z"
    },
    "id": "3DDRd9EVZCdC",
    "papermill": {
     "duration": 0.034703,
     "end_time": "2020-08-27T06:32:30.513290",
     "exception": false,
     "start_time": "2020-08-27T06:32:30.478587",
     "status": "completed"
    },
    "tags": []
   },
   "outputs": [],
   "source": [
    "def train_clf(clf, x_train, y_train, sample_weight=None, refit=False):\n",
    "    train_time = 0\n",
    "    \n",
    "    try:\n",
    "        if refit:\n",
    "            raise NotFittedError\n",
    "        y_pred_train = clf.predict(x_train)\n",
    "    except NotFittedError:\n",
    "        start = timeit.default_timer()\n",
    "        \n",
    "        if sample_weight is not None:\n",
    "            clf.fit(x_train, y_train, sample_weight=sample_weight)\n",
    "        else:\n",
    "            clf.fit(x_train, y_train)\n",
    "        \n",
    "        end = timeit.default_timer()\n",
    "        train_time = end - start\n",
    "        \n",
    "        y_pred_train = clf.predict(x_train)\n",
    "    \n",
    "    train_acc = accuracy_score(y_train, y_pred_train)\n",
    "    return clf, y_pred_train, train_acc, train_time"
   ]
  },
  {
   "cell_type": "code",
   "execution_count": 28,
   "metadata": {
    "execution": {
     "iopub.execute_input": "2020-08-27T06:32:30.562396Z",
     "iopub.status.busy": "2020-08-27T06:32:30.561342Z",
     "iopub.status.idle": "2020-08-27T06:32:30.564701Z",
     "shell.execute_reply": "2020-08-27T06:32:30.564080Z"
    },
    "id": "ZXpjJsL9ZCdI",
    "papermill": {
     "duration": 0.029928,
     "end_time": "2020-08-27T06:32:30.564859",
     "exception": false,
     "start_time": "2020-08-27T06:32:30.534931",
     "status": "completed"
    },
    "tags": []
   },
   "outputs": [],
   "source": [
    "def model_memory_size(clf):\n",
    "    return sys.getsizeof(pickle.dumps(clf))"
   ]
  },
  {
   "cell_type": "code",
   "execution_count": 29,
   "metadata": {
    "Collapsed": "false",
    "execution": {
     "iopub.execute_input": "2020-08-27T06:32:30.638194Z",
     "iopub.status.busy": "2020-08-27T06:32:30.616485Z",
     "iopub.status.idle": "2020-08-27T06:32:30.653822Z",
     "shell.execute_reply": "2020-08-27T06:32:30.654381Z"
    },
    "id": "kDXGDduOZCdL",
    "papermill": {
     "duration": 0.068596,
     "end_time": "2020-08-27T06:32:30.654549",
     "exception": false,
     "start_time": "2020-08-27T06:32:30.585953",
     "status": "completed"
    },
    "tags": []
   },
   "outputs": [],
   "source": [
    "def report(clf, x_train, y_train, x_test, y_test, display_scores=[],\n",
    "           sample_weight=None, refit=False, importance_plot=False,\n",
    "           confusion_labels=None, feature_labels=None, verbose=True):\n",
    "    \"\"\" Trains the passed classifier if not already trained and reports\n",
    "        various metrics of the trained classifier \"\"\"\n",
    "    \n",
    "    dump = dict()\n",
    "    \n",
    "    ## Train if not already trained\n",
    "    clf, train_predictions, \\\n",
    "    train_acc, train_time = train_clf(clf, x_train, y_train,\n",
    "                                      sample_weight=sample_weight,\n",
    "                                      refit=refit)\n",
    "    ## Testing\n",
    "    start = timeit.default_timer()\n",
    "    test_predictions = clf.predict(x_test)\n",
    "    end = timeit.default_timer()\n",
    "    test_time = end - start\n",
    "    \n",
    "    test_acc = accuracy_score(y_test, test_predictions)\n",
    "    y_probs = clf.predict_proba(x_test)[:, 1]\n",
    "    \n",
    "    roc_auc = roc_auc_score(y_test, y_probs)\n",
    "        \n",
    "    ## Additional scores\n",
    "    scores_dict = dict()\n",
    "    for func in display_scores:\n",
    "        scores_dict[func.__name__] = [func(y_train, train_predictions),\n",
    "                                      func(y_test, test_predictions)]\n",
    "        \n",
    "    ## Model Memory\n",
    "    model_mem = round(model_memory_size(clf) / 1024, 2)\n",
    "    \n",
    "    print(clf)\n",
    "    print(\"\\n=============================> TRAIN-TEST DETAILS <======================================\")\n",
    "    \n",
    "    ## Metrics\n",
    "    print(f\"Train Size: {x_train.shape[0]} samples\")\n",
    "    print(f\" Test Size: {x_test.shape[0]} samples\")\n",
    "    print(\"---------------------------------------------\")\n",
    "    print(f\"Training Time: {round(train_time, 3)} seconds\")\n",
    "    print(f\" Testing Time: {round(test_time, 3)} seconds\")\n",
    "    print(\"---------------------------------------------\")\n",
    "    print(\"Train Accuracy: \", train_acc)\n",
    "    print(\" Test Accuracy: \", test_acc)\n",
    "    print(\"---------------------------------------------\")\n",
    "    \n",
    "    if display_scores:\n",
    "        for k, v in scores_dict.items():\n",
    "            score_name = ' '.join(map(lambda x: x.title(), k.split('_')))\n",
    "            print(f'Train {score_name}: ', v[0])\n",
    "            print(f' Test {score_name}: ', v[1])\n",
    "            print()\n",
    "        print(\"---------------------------------------------\")\n",
    "    \n",
    "    print(\" Area Under ROC (test): \", roc_auc)\n",
    "    print(\"---------------------------------------------\")\n",
    "    print(f\"Model Memory Size: {model_mem} kB\")\n",
    "    print(\"\\n=============================> CLASSIFICATION REPORT <===================================\")\n",
    "    \n",
    "    ## Classification Report\n",
    "    clf_rep = classification_report(y_test, test_predictions, output_dict=True)\n",
    "    \n",
    "    print(classification_report(y_test, test_predictions,\n",
    "                                target_names=confusion_labels))\n",
    "    \n",
    "    \n",
    "    if verbose:\n",
    "        print(\"\\n================================> CONFUSION MATRIX <=====================================\")\n",
    "    \n",
    "        ## Confusion Matrix HeatMap\n",
    "        display(confusion_plot(confusion_matrix(y_test, test_predictions),\n",
    "                               labels=confusion_labels))\n",
    "        print(\"\\n=======================================> PLOTS <=========================================\")\n",
    "\n",
    "\n",
    "        ## Variable importance plot\n",
    "        fig, axes = plt.subplots(nrows=2, ncols=2, figsize=(14, 10))\n",
    "        roc_axes = axes[0, 0]\n",
    "        pr_axes = axes[0, 1]\n",
    "        importances = None\n",
    "\n",
    "        if importance_plot:\n",
    "            if not feature_labels:\n",
    "                raise RuntimeError(\"'feature_labels' argument not passed \"\n",
    "                                   \"when 'importance_plot' is True\")\n",
    "\n",
    "            try:\n",
    "                importances = pd.Series(clf.feature_importances_,\n",
    "                                        index=feature_labels) \\\n",
    "                                .sort_values(ascending=False)\n",
    "            except AttributeError:\n",
    "                try:\n",
    "                    importances = pd.Series(clf.coef_.ravel(),\n",
    "                                            index=feature_labels) \\\n",
    "                                    .sort_values(ascending=False)\n",
    "                except AttributeError:\n",
    "                    pass\n",
    "\n",
    "            if importances is not None:\n",
    "                # Modifying grid\n",
    "                grid_spec = axes[0, 0].get_gridspec()\n",
    "                for ax in axes[:, 0]:\n",
    "                    ax.remove()   # remove first column axes\n",
    "                large_axs = fig.add_subplot(grid_spec[0:, 0])\n",
    "\n",
    "                # Plot importance curve\n",
    "                feature_importance_plot(importances=importances.values,\n",
    "                                        feature_labels=importances.index,\n",
    "                                        ax=large_axs)\n",
    "                large_axs.axvline(x=0)\n",
    "\n",
    "                # Axis for ROC and PR curve\n",
    "                roc_axes = axes[0, 1]\n",
    "                pr_axes = axes[1, 1]\n",
    "            else:\n",
    "                # remove second row axes\n",
    "                for ax in axes[1, :]:\n",
    "                    ax.remove()\n",
    "        else:\n",
    "            # remove second row axes\n",
    "            for ax in axes[1, :]:\n",
    "                ax.remove()\n",
    "\n",
    "\n",
    "        ## ROC and Precision-Recall curves\n",
    "        clf_name = clf.__class__.__name__\n",
    "        roc_plot(y_test, y_probs, clf_name, ax=roc_axes)\n",
    "        precision_recall_plot(y_test, y_probs, clf_name, ax=pr_axes)\n",
    "\n",
    "        fig.subplots_adjust(wspace=5)\n",
    "        fig.tight_layout()\n",
    "        display(fig)\n",
    "    \n",
    "    ## Dump to report_dict\n",
    "    dump = dict(clf=clf, accuracy=[train_acc, test_acc], **scores_dict,\n",
    "                train_time=train_time, train_predictions=train_predictions,\n",
    "                test_time=test_time, test_predictions=test_predictions,\n",
    "                test_probs=y_probs, report=clf_rep, roc_auc=roc_auc,\n",
    "                model_memory=model_mem)\n",
    "    \n",
    "    return clf, dump"
   ]
  },
  {
   "cell_type": "code",
   "execution_count": 30,
   "metadata": {
    "Collapsed": "false",
    "execution": {
     "iopub.execute_input": "2020-08-27T06:32:30.716675Z",
     "iopub.status.busy": "2020-08-27T06:32:30.715535Z",
     "iopub.status.idle": "2020-08-27T06:32:30.719036Z",
     "shell.execute_reply": "2020-08-27T06:32:30.718449Z"
    },
    "id": "LIBHPi6oZCdQ",
    "papermill": {
     "duration": 0.043589,
     "end_time": "2020-08-27T06:32:30.719169",
     "exception": false,
     "start_time": "2020-08-27T06:32:30.675580",
     "status": "completed"
    },
    "tags": []
   },
   "outputs": [],
   "source": [
    "def compare_models(y_test=None, clf_reports=[], labels=[], score='accuracy'):\n",
    "    \"\"\" Compare evaluation metrics for the True Positive class [1] of \n",
    "        binary classifiers passed in the argument and plot ROC and PR curves.\n",
    "        \n",
    "        Arguments:\n",
    "        ---------\n",
    "        y_test: to plot ROC and Precision-Recall curves\n",
    "         score: is the name corresponding to the sklearn metrics\n",
    "        \n",
    "        Returns:\n",
    "        -------\n",
    "        compare_table: pandas DataFrame containing evaluated metrics\n",
    "                  fig: `matplotlib` figure object with ROC and PR curves \"\"\"\n",
    "\n",
    "    \n",
    "    ## Classifier Labels\n",
    "    default_names = [rep['clf'].__class__.__name__ for rep in clf_reports]\n",
    "    clf_names =  labels if len(labels) == len(clf_reports) else default_names\n",
    "    \n",
    "    \n",
    "    ## Compare Table\n",
    "    table = dict()\n",
    "    index = ['Train ' + score, 'Test ' + score, 'Overfitting', 'ROC Area',\n",
    "             'Precision', 'Recall', 'F1-score', 'Support']\n",
    "    for i in range(len(clf_reports)):\n",
    "        scores = [round(i, 3) for i in clf_reports[i][score]]\n",
    "        \n",
    "        roc_auc = clf_reports[i]['roc_auc']\n",
    "        \n",
    "        # Get metrics of True Positive class from sklearn classification_report\n",
    "        true_positive_metrics = list(clf_reports[i]['report'][\"1\"].values())\n",
    "        \n",
    "        table[clf_names[i]] = scores + [scores[1] < scores[0], roc_auc] + \\\n",
    "                              true_positive_metrics\n",
    "    \n",
    "    table = pd.DataFrame(data=table, index=index)\n",
    "    \n",
    "    \n",
    "    ## Compare Plots\n",
    "    fig, axes = plt.subplots(nrows=1, ncols=2, figsize=(15, 5))\n",
    "    \n",
    "    # ROC and Precision-Recall\n",
    "    for i in range(len(clf_reports)):\n",
    "        clf_probs = clf_reports[i]['test_probs']\n",
    "        roc_plot(y_test, clf_probs, label=clf_names[i],\n",
    "                 compare=True, ax=axes[0])\n",
    "        precision_recall_plot(y_test, clf_probs, label=clf_names[i],\n",
    "                              compare=True, ax=axes[1])\n",
    "    # Plot No-Info classifier\n",
    "    axes[0].plot([0,1], [0,1], linestyle='--', color='green')\n",
    "        \n",
    "    fig.tight_layout()\n",
    "    plt.close()\n",
    "    \n",
    "    return table.T, fig"
   ]
  },
  {
   "cell_type": "markdown",
   "execution_count": null,
   "metadata": {
    "papermill": {
     "duration": 0.0208,
     "end_time": "2020-08-27T06:32:30.761087",
     "exception": false,
     "start_time": "2020-08-27T06:32:30.740287",
     "status": "completed"
    },
    "tags": []
   },
   "source": [
    "<a id=\"evaluation-metric\"></a>\n",
    "# 4. Evaluation metric\n",
    "Since the titanic dataset is imbalanced, F1-score is a more appropriate metric than accuracy. Therefore, we will use F1-score as the evaluation metric while performing hyperparameter tuning of XGBoost classifier using Optuna."
   ]
  },
  {
   "cell_type": "markdown",
   "execution_count": null,
   "metadata": {
    "id": "ae1pNEG8ZCeC",
    "papermill": {
     "duration": 0.020572,
     "end_time": "2020-08-27T06:32:30.802667",
     "exception": false,
     "start_time": "2020-08-27T06:32:30.782095",
     "status": "completed"
    },
    "tags": []
   },
   "source": [
    "<a id=\"xgboost-with-default-parameters\"></a>\n",
    "# 5. XGBoost with default parameters"
   ]
  },
  {
   "cell_type": "code",
   "execution_count": 31,
   "metadata": {
    "execution": {
     "iopub.execute_input": "2020-08-27T06:32:30.850725Z",
     "iopub.status.busy": "2020-08-27T06:32:30.849962Z",
     "iopub.status.idle": "2020-08-27T06:32:31.815304Z",
     "shell.execute_reply": "2020-08-27T06:32:31.814482Z"
    },
    "papermill": {
     "duration": 0.991882,
     "end_time": "2020-08-27T06:32:31.815481",
     "exception": false,
     "start_time": "2020-08-27T06:32:30.823599",
     "status": "completed"
    },
    "tags": []
   },
   "outputs": [],
   "source": [
    "from xgboost import XGBClassifier\n",
    "from sklearn.utils import class_weight\n",
    "from sklearn import metrics"
   ]
  },
  {
   "cell_type": "code",
   "execution_count": 32,
   "metadata": {
    "execution": {
     "iopub.execute_input": "2020-08-27T06:32:31.865494Z",
     "iopub.status.busy": "2020-08-27T06:32:31.864495Z",
     "iopub.status.idle": "2020-08-27T06:32:31.867577Z",
     "shell.execute_reply": "2020-08-27T06:32:31.866978Z"
    },
    "papermill": {
     "duration": 0.030693,
     "end_time": "2020-08-27T06:32:31.867711",
     "exception": false,
     "start_time": "2020-08-27T06:32:31.837018",
     "status": "completed"
    },
    "tags": []
   },
   "outputs": [],
   "source": [
    "primary_eval_metric = metrics.f1_score\n",
    "confusion_lbs = ['Not Survived', 'Survived']\n",
    "\n",
    "## Compute `class_weights` using sklearn\n",
    "cls_weight = (y_train.shape[0] - np.sum(y_train)) / np.sum(y_train)"
   ]
  },
  {
   "cell_type": "code",
   "execution_count": 33,
   "metadata": {
    "execution": {
     "iopub.execute_input": "2020-08-27T06:32:31.922348Z",
     "iopub.status.busy": "2020-08-27T06:32:31.921571Z",
     "iopub.status.idle": "2020-08-27T06:32:34.401915Z",
     "shell.execute_reply": "2020-08-27T06:32:34.401097Z"
    },
    "id": "_yhb4ARsZCeC",
    "outputId": "ff422efc-8b40-406c-9cb2-e8f9087d4540",
    "papermill": {
     "duration": 2.51247,
     "end_time": "2020-08-27T06:32:34.402052",
     "exception": false,
     "start_time": "2020-08-27T06:32:31.889582",
     "status": "completed"
    },
    "tags": []
   },
   "outputs": [
    {
     "name": "stdout",
     "output_type": "stream",
     "text": [
      "XGBClassifier(base_score=0.5, booster='gbtree', colsample_bylevel=1,\n",
      "              colsample_bynode=1, colsample_bytree=1, gamma=0, gpu_id=-1,\n",
      "              importance_type='gain', interaction_constraints='',\n",
      "              learning_rate=0.300000012, max_delta_step=0, max_depth=6,\n",
      "              min_child_weight=1, missing=nan, monotone_constraints='()',\n",
      "              n_estimators=100, n_jobs=-1, num_parallel_tree=1, random_state=0,\n",
      "              reg_alpha=0, reg_lambda=1, scale_pos_weight=1.611764705882353,\n",
      "              subsample=1, tree_method='exact', validate_parameters=1,\n",
      "              verbosity=None)\n",
      "\n",
      "=============================> TRAIN-TEST DETAILS <======================================\n",
      "Train Size: 666 samples\n",
      " Test Size: 223 samples\n",
      "---------------------------------------------\n",
      "Training Time: 0 seconds\n",
      " Testing Time: 0.004 seconds\n",
      "---------------------------------------------\n",
      "Train Accuracy:  0.9864864864864865\n",
      " Test Accuracy:  0.8430493273542601\n",
      "---------------------------------------------\n",
      "Train F1 Score:  0.9825242718446602\n",
      " Test F1 Score:  0.7953216374269007\n",
      "\n",
      "---------------------------------------------\n",
      " Area Under ROC (test):  0.8726342710997442\n",
      "---------------------------------------------\n",
      "Model Memory Size: 154.18 kB\n",
      "\n",
      "=============================> CLASSIFICATION REPORT <===================================\n",
      "              precision    recall  f1-score   support\n",
      "\n",
      "Not Survived       0.88      0.87      0.87       138\n",
      "    Survived       0.79      0.80      0.80        85\n",
      "\n",
      "    accuracy                           0.84       223\n",
      "   macro avg       0.83      0.83      0.83       223\n",
      "weighted avg       0.84      0.84      0.84       223\n",
      "\n",
      "\n",
      "================================> CONFUSION MATRIX <=====================================\n"
     ]
    },
    {
     "data": {
      "image/png": "[encoded data removed]",
      "text/plain": [
       "<Figure size 432x288 with 2 Axes>"
      ]
     },
     "metadata": {},
     "output_type": "display_data"
    },
    {
     "name": "stdout",
     "output_type": "stream",
     "text": [
      "\n",
      "=======================================> PLOTS <=========================================\n"
     ]
    },
    {
     "data": {
      "image/png": "[encoded data removed]",
      "text/plain": [
       "<Figure size 1008x720 with 4 Axes>"
      ]
     },
     "metadata": {},
     "output_type": "display_data"
    }
   ],
   "source": [
    "xgb_clf_default = XGBClassifier(scale_pos_weight=cls_weight,\n",
    "                                random_state=0, n_jobs=-1)\n",
    "xgb_clf_default.fit(x_train, y_train);\n",
    "\n",
    "xgb_clf_default, xgb_report_default = report(xgb_clf_default, x_train, y_train,\n",
    "                                             x_test, y_test,\n",
    "                                             display_scores=[primary_eval_metric],\n",
    "                                             importance_plot=True,\n",
    "                                             feature_labels=feature_names,\n",
    "                                             confusion_labels=confusion_lbs)"
   ]
  },
  {
   "cell_type": "markdown",
   "execution_count": null,
   "metadata": {
    "papermill": {
     "duration": 0.022334,
     "end_time": "2020-08-27T06:32:34.446994",
     "exception": false,
     "start_time": "2020-08-27T06:32:34.424660",
     "status": "completed"
    },
    "tags": []
   },
   "source": [
    "As we can see, the XGBoost classifier in its default configuration is overfitting in terms of F1-score."
   ]
  },
  {
   "cell_type": "markdown",
   "execution_count": null,
   "metadata": {
    "papermill": {
     "duration": 0.022084,
     "end_time": "2020-08-27T06:32:34.491677",
     "exception": false,
     "start_time": "2020-08-27T06:32:34.469593",
     "status": "completed"
    },
    "tags": []
   },
   "source": [
    "<a id=\"what-is-optuna%3F\"></a>\n",
    "# 6. What is Optuna?\n",
    "Optuna is one of the optimization libraries that use Sequential Model Based Optimization (SMBO). Conventional optimization approaches like Grid search and Random search do not make use of the information available regarding the previously explored hyperparameter search space. Unlike those techniques, SMBO techniques use the historical exploration information to make a more informed decision regarding the direction in which the optimizer should explore next in the search space. Such a mechanism gives SMBO techniques an edge over the conventional approaches in terms of convergence speed. \n",
    "\n",
    "**Advantages of SMBO:** \n",
    "> 1. Requires fewer iterations/ trials to converge, even if the search space is very huge.\n",
    ">\n",
    "> 2. Search is more focused in the region of the search space that is closer to the true optimal point.\n",
    ">\n",
    "> 3. Facilitates pausing and continuing the optimization process. \n",
    "\n",
    "Some examples of SMBO based optimization libraries:- Skopt, Hyperopt, Optuna \n",
    "\n",
    "**Advantages of Optuna over Hyperopt and Skopt:**\n",
    "> 1. Provides support storing the optimization information in a database. Hence, facilitates saving and resuming the optimization process, unlike Hyperopt and Skopt.\n",
    ">\n",
    "> 2. The interface and documentation is more mature than Skopt and Hyperopt."
   ]
  },
  {
   "cell_type": "markdown",
   "execution_count": null,
   "metadata": {
    "papermill": {
     "duration": 0.023066,
     "end_time": "2020-08-27T06:32:34.537347",
     "exception": false,
     "start_time": "2020-08-27T06:32:34.514281",
     "status": "completed"
    },
    "tags": []
   },
   "source": [
    "<a id=\"stepwise-hyperparameter-tuning\"></a>\n",
    "# 7. Stepwise Hyperparameter Tuning\n",
    "The stepwise algorithm for XGBoost hyperparameter tuning is inspired by a similar algorithm for LightGBM explained in [this post](https://medium.com/optuna/lightgbm-tuner-new-optuna-integration-for-hyperparameter-optimization-8b7095e99258). \n",
    "\n",
    "The most commonly used and the most effective XGBoost parameters are split into 3 groups: \n",
    "\n",
    "> **GROUP 1:** max_depth , min_child_weight \n",
    ">\n",
    "> **GROUP 2:** subsample, colsample_bytree \n",
    ">\n",
    "> **GROUP 3:** learning_rate, num_boost_round \n",
    "\n",
    "Initially, `learning_rate` and `num_boost_round` are fixed at 0.1 and 1000 respectively.\n",
    "\n",
    "Each of these groups of hyperparameters are tuned sequentially. While tuning a particular group, all the subsequent groups are fixed at default or initial values and all the preceding groups are fixed at the values obtained after the tuning process. For example, by the time execution reachs GROUP 2, GROUP 1 is already tuned so we will fix GROUP 1 at the optimal values obtained, while the parameters in the subsequent groups (only GROUP 3 in this case) are left default or at the intialized values (0.1 and 1000 in this case) since they still need to be tuned. \n",
    "\n",
    "The benefit of stepwise tuning is that the hyperparameter space is narrowed down to the group being tuned. In conventional tuning methods, we tune all the hyperparameters togeather which requires searching through a larger space. For instance, in this case we have 6 hyperparameters, tuning all of them together will involve searching through a 6 dimensional space. However, if stepwise algorithm is used, we will have to search a space of only 2 dimensions at once which is way more efficient and faster than searching through a larger space. "
   ]
  },
  {
   "cell_type": "code",
   "execution_count": 34,
   "metadata": {
    "execution": {
     "iopub.execute_input": "2020-08-27T06:32:34.606296Z",
     "iopub.status.busy": "2020-08-27T06:32:34.601484Z",
     "iopub.status.idle": "2020-08-27T06:32:35.203841Z",
     "shell.execute_reply": "2020-08-27T06:32:35.203138Z"
    },
    "papermill": {
     "duration": 0.644106,
     "end_time": "2020-08-27T06:32:35.203974",
     "exception": false,
     "start_time": "2020-08-27T06:32:34.559868",
     "status": "completed"
    },
    "tags": []
   },
   "outputs": [],
   "source": [
    "import xgboost as xgb\n",
    "from optuna import create_study, logging\n",
    "from optuna.pruners import MedianPruner\n",
    "from optuna.integration import XGBoostPruningCallback\n",
    "\n",
    "\n",
    "def objective(trial, X, y, group, score, params=dict()):\n",
    "    dtrain = xgb.DMatrix(X, label=y)\n",
    "    class_weight = (y.shape[0] - np.sum(y)) / np.sum(y)\n",
    "    \n",
    "    ## Initial Learning Parameters\n",
    "    params['learning_rate'] = 0.1\n",
    "    params['num_boost_round'] = 1000\n",
    "\n",
    "    if group == '1':\n",
    "        params['max_depth'] = trial.suggest_int('max_depth', 2, 10)\n",
    "        params['min_child_weight'] = trial.suggest_loguniform('min_child_weight',\n",
    "                                                              1e-10, 1e10)\n",
    "    \n",
    "    if group == '2':\n",
    "        params['subsample'] = trial.suggest_uniform('subsample', 0, 1)\n",
    "        params['colsample_bytree'] = trial.suggest_uniform('colsample_bytree', 0, 1)\n",
    "    \n",
    "    if group == '3':\n",
    "        params['learning_rate'] = trial.suggest_uniform('learning_rate', 0, 0.1)\n",
    "        params['num_boost_round'] = trial.suggest_int('num_boost_round', 100, 1000)\n",
    "\n",
    "    pruning_callback = XGBoostPruningCallback(trial, \"test-\" + score.__name__)\n",
    "    cv_scores = xgb.cv(params, dtrain, nfold=5,\n",
    "                       stratified=True,\n",
    "                       feval=score,\n",
    "                       early_stopping_rounds=10,\n",
    "                       callbacks=[pruning_callback],\n",
    "                       seed=0)\n",
    "\n",
    "    return cv_scores['test-' + score.__name__ + '-mean'].values[-1]\n",
    "\n",
    "\n",
    "def execute_optimization(study_name, group, score, trials,\n",
    "                         params=dict(), direction='maximize'):\n",
    "    logging.set_verbosity(logging.ERROR)\n",
    "    \n",
    "    ## We use pruner to skip trials that are NOT fruitful\n",
    "    pruner = MedianPruner(n_warmup_steps=5)\n",
    "    \n",
    "    study = create_study(direction=direction,\n",
    "                         study_name=study_name,\n",
    "                         storage='sqlite:///optuna.db',\n",
    "                         load_if_exists=True,\n",
    "                         pruner=pruner)\n",
    "\n",
    "    study.optimize(lambda trial: objective(trial, x_train, y_train,\n",
    "                                           group, score, params),\n",
    "                   n_trials=trials,\n",
    "                   n_jobs=-1)\n",
    "    \n",
    "    \n",
    "    print(\"STUDY NAME: \", study_name)\n",
    "    print('------------------------------------------------')\n",
    "    print(\"EVALUATION METRIC: \", score.__name__)\n",
    "    print('------------------------------------------------')\n",
    "    print(\"BEST CV SCORE\", study.best_value)\n",
    "    print('------------------------------------------------')\n",
    "    print(f\"OPTIMAL GROUP - {group} PARAMS: \", study.best_params)\n",
    "    print('------------------------------------------------')\n",
    "    print(\"BEST TRIAL\", study.best_trial)\n",
    "    print('------------------------------------------------')\n",
    "    \n",
    "    \n",
    "    return study.best_params"
   ]
  },
  {
   "cell_type": "markdown",
   "execution_count": null,
   "metadata": {
    "papermill": {
     "duration": 0.022341,
     "end_time": "2020-08-27T06:32:35.249439",
     "exception": false,
     "start_time": "2020-08-27T06:32:35.227098",
     "status": "completed"
    },
    "tags": []
   },
   "source": [
    "Since XGBoost does not have F1-score as one of the evaluation metrics, we will have a pass a custom F1-score function in the `feval=` parameter of the `xgb.cv` method."
   ]
  },
  {
   "cell_type": "code",
   "execution_count": 35,
   "metadata": {
    "execution": {
     "iopub.execute_input": "2020-08-27T06:32:35.309552Z",
     "iopub.status.busy": "2020-08-27T06:32:35.308567Z",
     "iopub.status.idle": "2020-08-27T06:32:35.311872Z",
     "shell.execute_reply": "2020-08-27T06:32:35.311122Z"
    },
    "papermill": {
     "duration": 0.039834,
     "end_time": "2020-08-27T06:32:35.312002",
     "exception": false,
     "start_time": "2020-08-27T06:32:35.272168",
     "status": "completed"
    },
    "tags": []
   },
   "outputs": [],
   "source": [
    "score_func = metrics.f1_score\n",
    "def score_function(y_pred, dtrain):\n",
    "    y_pred = (y_pred > 0.5).astype(int)\n",
    "    y_true = (dtrain.get_label() > 0.5).astype(int)\n",
    "    return score_func.__name__, score_func(y_true, y_pred)\n",
    "\n",
    "score_function.__name__ = score_func.__name__"
   ]
  },
  {
   "cell_type": "code",
   "execution_count": 36,
   "metadata": {
    "execution": {
     "iopub.execute_input": "2020-08-27T06:32:35.367516Z",
     "iopub.status.busy": "2020-08-27T06:32:35.366288Z",
     "iopub.status.idle": "2020-08-27T06:32:35.369454Z",
     "shell.execute_reply": "2020-08-27T06:32:35.370022Z"
    },
    "papermill": {
     "duration": 0.035456,
     "end_time": "2020-08-27T06:32:35.370194",
     "exception": false,
     "start_time": "2020-08-27T06:32:35.334738",
     "status": "completed"
    },
    "tags": []
   },
   "outputs": [],
   "source": [
    "def stepwise_optimization(trials=10):\n",
    "    final_params = dict()\n",
    "    for g in ['1', '2', '3']:\n",
    "        print(f\"=========================== Optimizing Group - {g} ============================\")\n",
    "        update_params = execute_optimization('xgboost', g, score_function, trials,\n",
    "                                             params=final_params, direction='maximize')\n",
    "        final_params.update(update_params)\n",
    "        print(f\"PARAMS after optimizing GROUP - {g}: \", final_params)\n",
    "        print()\n",
    "        print()\n",
    "\n",
    "    print(\"=========================== FINAL OPTIMAL PARAMETERS ============================\")\n",
    "    print(final_params)\n",
    "    \n",
    "    return final_params"
   ]
  },
  {
   "cell_type": "code",
   "execution_count": 37,
   "metadata": {
    "execution": {
     "iopub.execute_input": "2020-08-27T06:32:35.421551Z",
     "iopub.status.busy": "2020-08-27T06:32:35.420409Z",
     "iopub.status.idle": "2020-08-27T06:32:56.042058Z",
     "shell.execute_reply": "2020-08-27T06:32:56.041340Z"
    },
    "papermill": {
     "duration": 20.649177,
     "end_time": "2020-08-27T06:32:56.042196",
     "exception": false,
     "start_time": "2020-08-27T06:32:35.393019",
     "status": "completed"
    },
    "tags": []
   },
   "outputs": [
    {
     "name": "stdout",
     "output_type": "stream",
     "text": [
      "=========================== Optimizing Group - 1 ============================\n",
      "STUDY NAME:  xgboost\n",
      "------------------------------------------------\n",
      "EVALUATION METRIC:  f1_score\n",
      "------------------------------------------------\n",
      "BEST CV SCORE 0.7042080000000001\n",
      "------------------------------------------------\n",
      "OPTIMAL GROUP - 1 PARAMS:  {'max_depth': 3, 'min_child_weight': 0.0008744811732146409}\n",
      "------------------------------------------------\n",
      "BEST TRIAL FrozenTrial(number=4, value=0.7042080000000001, datetime_start=datetime.datetime(2020, 8, 27, 6, 32, 38, 448133), datetime_complete=datetime.datetime(2020, 8, 27, 6, 32, 41, 339302), params={'max_depth': 3, 'min_child_weight': 0.0008744811732146409}, distributions={'max_depth': IntUniformDistribution(high=10, low=2, step=1), 'min_child_weight': LogUniformDistribution(high=10000000000.0, low=1e-10)}, user_attrs={}, system_attrs={}, intermediate_values={0: 0.7156712, 1: 0.715403, 2: 0.7149015999999999, 3: 0.7205793999999999, 4: 0.7152486, 5: 0.7152486, 6: 0.7015279999999999, 7: 0.7015279999999999, 8: 0.7042080000000001, 9: 0.7042080000000001}, trial_id=5, state=TrialState.COMPLETE)\n",
      "------------------------------------------------\n",
      "PARAMS after optimizing GROUP - 1:  {'learning_rate': 0.1, 'num_boost_round': 1000, 'max_depth': 3, 'min_child_weight': 0.0008744811732146409}\n",
      "\n",
      "\n",
      "=========================== Optimizing Group - 2 ============================\n",
      "STUDY NAME:  xgboost\n",
      "------------------------------------------------\n",
      "EVALUATION METRIC:  f1_score\n",
      "------------------------------------------------\n",
      "BEST CV SCORE 0.7042080000000001\n",
      "------------------------------------------------\n",
      "OPTIMAL GROUP - 2 PARAMS:  {'max_depth': 3, 'min_child_weight': 0.0008744811732146409}\n",
      "------------------------------------------------\n",
      "BEST TRIAL FrozenTrial(number=4, value=0.7042080000000001, datetime_start=datetime.datetime(2020, 8, 27, 6, 32, 38, 448133), datetime_complete=datetime.datetime(2020, 8, 27, 6, 32, 41, 339302), params={'max_depth': 3, 'min_child_weight': 0.0008744811732146409}, distributions={'max_depth': IntUniformDistribution(high=10, low=2, step=1), 'min_child_weight': LogUniformDistribution(high=10000000000.0, low=1e-10)}, user_attrs={}, system_attrs={}, intermediate_values={0: 0.7156712, 1: 0.715403, 2: 0.7149015999999999, 3: 0.7205793999999999, 4: 0.7152486, 5: 0.7152486, 6: 0.7015279999999999, 7: 0.7015279999999999, 8: 0.7042080000000001, 9: 0.7042080000000001}, trial_id=5, state=TrialState.COMPLETE)\n",
      "------------------------------------------------\n",
      "PARAMS after optimizing GROUP - 2:  {'learning_rate': 0.1, 'num_boost_round': 1000, 'max_depth': 3, 'min_child_weight': 0.0008744811732146409, 'subsample': 0.033981160117708575, 'colsample_bytree': 0.3639480531900633}\n",
      "\n",
      "\n",
      "=========================== Optimizing Group - 3 ============================\n",
      "STUDY NAME:  xgboost\n",
      "------------------------------------------------\n",
      "EVALUATION METRIC:  f1_score\n",
      "------------------------------------------------\n",
      "BEST CV SCORE 0.7042080000000001\n",
      "------------------------------------------------\n",
      "OPTIMAL GROUP - 3 PARAMS:  {'max_depth': 3, 'min_child_weight': 0.0008744811732146409}\n",
      "------------------------------------------------\n",
      "BEST TRIAL FrozenTrial(number=4, value=0.7042080000000001, datetime_start=datetime.datetime(2020, 8, 27, 6, 32, 38, 448133), datetime_complete=datetime.datetime(2020, 8, 27, 6, 32, 41, 339302), params={'max_depth': 3, 'min_child_weight': 0.0008744811732146409}, distributions={'max_depth': IntUniformDistribution(high=10, low=2, step=1), 'min_child_weight': LogUniformDistribution(high=10000000000.0, low=1e-10)}, user_attrs={}, system_attrs={}, intermediate_values={0: 0.7156712, 1: 0.715403, 2: 0.7149015999999999, 3: 0.7205793999999999, 4: 0.7152486, 5: 0.7152486, 6: 0.7015279999999999, 7: 0.7015279999999999, 8: 0.7042080000000001, 9: 0.7042080000000001}, trial_id=5, state=TrialState.COMPLETE)\n",
      "------------------------------------------------\n",
      "PARAMS after optimizing GROUP - 3:  {'learning_rate': 0.0667846149728314, 'num_boost_round': 397, 'max_depth': 3, 'min_child_weight': 0.0008744811732146409, 'subsample': 0.033981160117708575, 'colsample_bytree': 0.3639480531900633}\n",
      "\n",
      "\n",
      "=========================== FINAL OPTIMAL PARAMETERS ============================\n",
      "{'learning_rate': 0.0667846149728314, 'num_boost_round': 397, 'max_depth': 3, 'min_child_weight': 0.0008744811732146409, 'subsample': 0.033981160117708575, 'colsample_bytree': 0.3639480531900633}\n"
     ]
    }
   ],
   "source": [
    "params = stepwise_optimization()"
   ]
  },
  {
   "cell_type": "code",
   "execution_count": 38,
   "metadata": {
    "execution": {
     "iopub.execute_input": "2020-08-27T06:32:56.109976Z",
     "iopub.status.busy": "2020-08-27T06:32:56.108901Z",
     "iopub.status.idle": "2020-08-27T06:32:56.114071Z",
     "shell.execute_reply": "2020-08-27T06:32:56.113396Z"
    },
    "papermill": {
     "duration": 0.041451,
     "end_time": "2020-08-27T06:32:56.114214",
     "exception": false,
     "start_time": "2020-08-27T06:32:56.072763",
     "status": "completed"
    },
    "tags": []
   },
   "outputs": [
    {
     "data": {
      "text/plain": [
       "{'learning_rate': 0.0667846149728314,\n",
       " 'num_boost_round': 397,\n",
       " 'max_depth': 3,\n",
       " 'min_child_weight': 0.0008744811732146409,\n",
       " 'subsample': 0.033981160117708575,\n",
       " 'colsample_bytree': 0.3639480531900633}"
      ]
     },
     "execution_count": 38,
     "metadata": {},
     "output_type": "execute_result"
    }
   ],
   "source": [
    "params"
   ]
  },
  {
   "cell_type": "markdown",
   "execution_count": null,
   "metadata": {
    "papermill": {
     "duration": 0.030067,
     "end_time": "2020-08-27T06:32:56.174278",
     "exception": false,
     "start_time": "2020-08-27T06:32:56.144211",
     "status": "completed"
    },
    "tags": []
   },
   "source": [
    "Let's run the XGB classifier using the obtained optimal hyperparameters and check if it is outside the overfitting region."
   ]
  },
  {
   "cell_type": "code",
   "execution_count": 39,
   "metadata": {
    "execution": {
     "iopub.execute_input": "2020-08-27T06:32:56.246611Z",
     "iopub.status.busy": "2020-08-27T06:32:56.245706Z",
     "iopub.status.idle": "2020-08-27T06:32:58.506112Z",
     "shell.execute_reply": "2020-08-27T06:32:58.505454Z"
    },
    "papermill": {
     "duration": 2.301258,
     "end_time": "2020-08-27T06:32:58.506239",
     "exception": false,
     "start_time": "2020-08-27T06:32:56.204981",
     "status": "completed"
    },
    "tags": []
   },
   "outputs": [
    {
     "name": "stdout",
     "output_type": "stream",
     "text": [
      "[06:32:56] WARNING: /workspace/src/learner.cc:480: \n",
      "Parameters: { num_boost_round } might not be used.\n",
      "\n",
      "  This may not be accurate due to some parameters are only used in language bindings but\n",
      "  passed down to XGBoost core.  Or some parameters are not used but slip through this\n",
      "  verification. Please open an issue if you find above cases.\n",
      "\n",
      "\n",
      "XGBClassifier(base_score=0.5, booster='gbtree', colsample_bylevel=1,\n",
      "              colsample_bynode=1, colsample_bytree=0.3639480531900633, gamma=0,\n",
      "              gpu_id=-1, importance_type='gain', interaction_constraints='',\n",
      "              learning_rate=0.0667846149728314, max_delta_step=0, max_depth=3,\n",
      "              min_child_weight=0.0008744811732146409, missing=nan,\n",
      "              monotone_constraints='()', n_estimators=100, n_jobs=-1,\n",
      "              num_boost_round=397, num_parallel_tree=1, random_state=0,\n",
      "              reg_alpha=0, reg_lambda=1, scale_pos_weight=1.611764705882353,\n",
      "              subsample=0.033981160117708575, tree_method='exact',\n",
      "              validate_parameters=1, verbosity=None)\n",
      "\n",
      "=============================> TRAIN-TEST DETAILS <======================================\n",
      "Train Size: 666 samples\n",
      " Test Size: 223 samples\n",
      "---------------------------------------------\n",
      "Training Time: 0 seconds\n",
      " Testing Time: 0.002 seconds\n",
      "---------------------------------------------\n",
      "Train Accuracy:  0.7852852852852853\n",
      " Test Accuracy:  0.7668161434977578\n",
      "---------------------------------------------\n",
      "Train F1 Score:  0.7276190476190476\n",
      " Test F1 Score:  0.717391304347826\n",
      "\n",
      "---------------------------------------------\n",
      " Area Under ROC (test):  0.859079283887468\n",
      "---------------------------------------------\n",
      "Model Memory Size: 46.1 kB\n",
      "\n",
      "=============================> CLASSIFICATION REPORT <===================================\n",
      "              precision    recall  f1-score   support\n",
      "\n",
      "Not Survived       0.85      0.76      0.80       138\n",
      "    Survived       0.67      0.78      0.72        85\n",
      "\n",
      "    accuracy                           0.77       223\n",
      "   macro avg       0.76      0.77      0.76       223\n",
      "weighted avg       0.78      0.77      0.77       223\n",
      "\n",
      "\n",
      "================================> CONFUSION MATRIX <=====================================\n"
     ]
    },
    {
     "data": {
      "image/png": "[encoded data removed]",
      "text/plain": [
       "<Figure size 432x288 with 2 Axes>"
      ]
     },
     "metadata": {},
     "output_type": "display_data"
    },
    {
     "name": "stdout",
     "output_type": "stream",
     "text": [
      "\n",
      "=======================================> PLOTS <=========================================\n"
     ]
    },
    {
     "data": {
      "image/png": "[encoded data removed]",
      "text/plain": [
       "<Figure size 1008x720 with 4 Axes>"
      ]
     },
     "metadata": {},
     "output_type": "display_data"
    }
   ],
   "source": [
    "xgb_clf_tuned_1 = XGBClassifier(**params, scale_pos_weight=cls_weight,\n",
    "                                random_state=0, n_jobs=-1)\n",
    "xgb_clf_tuned_1.fit(x_train, y_train);\n",
    "\n",
    "xgb_clf_tuned_1, xgb_report_tuned_1 = report(xgb_clf_tuned_1, x_train, y_train,\n",
    "                                             x_test, y_test,\n",
    "                                             display_scores=[primary_eval_metric],\n",
    "                                             importance_plot=True,\n",
    "                                             feature_labels=feature_names,\n",
    "                                             confusion_labels=confusion_lbs)"
   ]
  },
  {
   "cell_type": "markdown",
   "execution_count": null,
   "metadata": {
    "papermill": {
     "duration": 0.034519,
     "end_time": "2020-08-27T06:32:58.575893",
     "exception": false,
     "start_time": "2020-08-27T06:32:58.541374",
     "status": "completed"
    },
    "tags": []
   },
   "source": [
    "<a id=\"resuming-the-optimization-process-in-optuna\"></a>\n",
    "## 7.1. Resuming the optimization process in Optuna\n",
    "Since the classifier is still overfitting, we can ***continue/ resume*** the optimization process just by running the optimization process again on the same study by passing the study name and storage location to the **study_name** and **storage** arguments of the `create_study` method (see `execute_optimization` function).\n",
    "\n",
    "Since I am calling the from the `execute_optimization` function from the `stepwise_optimization` function, we just have to execute the `stepwise_optimization` function once more but with more trails."
   ]
  },
  {
   "cell_type": "code",
   "execution_count": 40,
   "metadata": {
    "execution": {
     "iopub.execute_input": "2020-08-27T06:32:58.650939Z",
     "iopub.status.busy": "2020-08-27T06:32:58.649900Z",
     "iopub.status.idle": "2020-08-27T06:34:49.000857Z",
     "shell.execute_reply": "2020-08-27T06:34:48.995752Z"
    },
    "papermill": {
     "duration": 110.390387,
     "end_time": "2020-08-27T06:34:49.001011",
     "exception": false,
     "start_time": "2020-08-27T06:32:58.610624",
     "status": "completed"
    },
    "tags": []
   },
   "outputs": [
    {
     "name": "stdout",
     "output_type": "stream",
     "text": [
      "=========================== Optimizing Group - 1 ============================\n",
      "STUDY NAME:  xgboost\n",
      "------------------------------------------------\n",
      "EVALUATION METRIC:  f1_score\n",
      "------------------------------------------------\n",
      "BEST CV SCORE 0.7069058\n",
      "------------------------------------------------\n",
      "OPTIMAL GROUP - 1 PARAMS:  {'max_depth': 2, 'min_child_weight': 7.574953159100704}\n",
      "------------------------------------------------\n",
      "BEST TRIAL FrozenTrial(number=76, value=0.7069058, datetime_start=datetime.datetime(2020, 8, 27, 6, 33, 34, 82928), datetime_complete=datetime.datetime(2020, 8, 27, 6, 33, 37, 383438), params={'max_depth': 2, 'min_child_weight': 7.574953159100704}, distributions={'max_depth': IntUniformDistribution(high=10, low=2, step=1), 'min_child_weight': LogUniformDistribution(high=10000000000.0, low=1e-10)}, user_attrs={}, system_attrs={}, intermediate_values={0: 0.7032552, 1: 0.7049822, 2: 0.6998122, 3: 0.7049822, 4: 0.7069058, 5: 0.7026192, 6: 0.7069058, 7: 0.7069058, 8: 0.7026192, 9: 0.7069058}, trial_id=77, state=TrialState.COMPLETE)\n",
      "------------------------------------------------\n",
      "PARAMS after optimizing GROUP - 1:  {'learning_rate': 0.1, 'num_boost_round': 1000, 'max_depth': 2, 'min_child_weight': 7.574953159100704}\n",
      "\n",
      "\n",
      "=========================== Optimizing Group - 2 ============================\n",
      "STUDY NAME:  xgboost\n",
      "------------------------------------------------\n",
      "EVALUATION METRIC:  f1_score\n",
      "------------------------------------------------\n",
      "BEST CV SCORE 0.7069058\n",
      "------------------------------------------------\n",
      "OPTIMAL GROUP - 2 PARAMS:  {'max_depth': 2, 'min_child_weight': 7.574953159100704}\n",
      "------------------------------------------------\n",
      "BEST TRIAL FrozenTrial(number=76, value=0.7069058, datetime_start=datetime.datetime(2020, 8, 27, 6, 33, 34, 82928), datetime_complete=datetime.datetime(2020, 8, 27, 6, 33, 37, 383438), params={'max_depth': 2, 'min_child_weight': 7.574953159100704}, distributions={'max_depth': IntUniformDistribution(high=10, low=2, step=1), 'min_child_weight': LogUniformDistribution(high=10000000000.0, low=1e-10)}, user_attrs={}, system_attrs={}, intermediate_values={0: 0.7032552, 1: 0.7049822, 2: 0.6998122, 3: 0.7049822, 4: 0.7069058, 5: 0.7026192, 6: 0.7069058, 7: 0.7069058, 8: 0.7026192, 9: 0.7069058}, trial_id=77, state=TrialState.COMPLETE)\n",
      "------------------------------------------------\n",
      "PARAMS after optimizing GROUP - 2:  {'learning_rate': 0.1, 'num_boost_round': 1000, 'max_depth': 2, 'min_child_weight': 7.574953159100704, 'subsample': 0.9426340819991916, 'colsample_bytree': 0.9105243559214375}\n",
      "\n",
      "\n",
      "=========================== Optimizing Group - 3 ============================\n",
      "STUDY NAME:  xgboost\n",
      "------------------------------------------------\n",
      "EVALUATION METRIC:  f1_score\n",
      "------------------------------------------------\n",
      "BEST CV SCORE 0.7069058\n",
      "------------------------------------------------\n",
      "OPTIMAL GROUP - 3 PARAMS:  {'max_depth': 2, 'min_child_weight': 7.574953159100704}\n",
      "------------------------------------------------\n",
      "BEST TRIAL FrozenTrial(number=76, value=0.7069058, datetime_start=datetime.datetime(2020, 8, 27, 6, 33, 34, 82928), datetime_complete=datetime.datetime(2020, 8, 27, 6, 33, 37, 383438), params={'max_depth': 2, 'min_child_weight': 7.574953159100704}, distributions={'max_depth': IntUniformDistribution(high=10, low=2, step=1), 'min_child_weight': LogUniformDistribution(high=10000000000.0, low=1e-10)}, user_attrs={}, system_attrs={}, intermediate_values={0: 0.7032552, 1: 0.7049822, 2: 0.6998122, 3: 0.7049822, 4: 0.7069058, 5: 0.7026192, 6: 0.7069058, 7: 0.7069058, 8: 0.7026192, 9: 0.7069058}, trial_id=77, state=TrialState.COMPLETE)\n",
      "------------------------------------------------\n",
      "PARAMS after optimizing GROUP - 3:  {'learning_rate': 0.018545066485002128, 'num_boost_round': 644, 'max_depth': 2, 'min_child_weight': 7.574953159100704, 'subsample': 0.9426340819991916, 'colsample_bytree': 0.9105243559214375}\n",
      "\n",
      "\n",
      "=========================== FINAL OPTIMAL PARAMETERS ============================\n",
      "{'learning_rate': 0.018545066485002128, 'num_boost_round': 644, 'max_depth': 2, 'min_child_weight': 7.574953159100704, 'subsample': 0.9426340819991916, 'colsample_bytree': 0.9105243559214375}\n"
     ]
    }
   ],
   "source": [
    "params = stepwise_optimization(trials=50)"
   ]
  },
  {
   "cell_type": "code",
   "execution_count": 41,
   "metadata": {
    "execution": {
     "iopub.execute_input": "2020-08-27T06:34:49.095702Z",
     "iopub.status.busy": "2020-08-27T06:34:49.094759Z",
     "iopub.status.idle": "2020-08-27T06:34:49.099847Z",
     "shell.execute_reply": "2020-08-27T06:34:49.099100Z"
    },
    "papermill": {
     "duration": 0.055697,
     "end_time": "2020-08-27T06:34:49.099976",
     "exception": false,
     "start_time": "2020-08-27T06:34:49.044279",
     "status": "completed"
    },
    "tags": []
   },
   "outputs": [
    {
     "data": {
      "text/plain": [
       "{'learning_rate': 0.018545066485002128,\n",
       " 'num_boost_round': 644,\n",
       " 'max_depth': 2,\n",
       " 'min_child_weight': 7.574953159100704,\n",
       " 'subsample': 0.9426340819991916,\n",
       " 'colsample_bytree': 0.9105243559214375}"
      ]
     },
     "execution_count": 41,
     "metadata": {},
     "output_type": "execute_result"
    }
   ],
   "source": [
    "params"
   ]
  },
  {
   "cell_type": "markdown",
   "execution_count": null,
   "metadata": {
    "papermill": {
     "duration": 0.042796,
     "end_time": "2020-08-27T06:34:49.185689",
     "exception": false,
     "start_time": "2020-08-27T06:34:49.142893",
     "status": "completed"
    },
    "tags": []
   },
   "source": [
    "Let's run the XGB classifier using the obtained optimal hyperparameters."
   ]
  },
  {
   "cell_type": "code",
   "execution_count": 42,
   "metadata": {
    "execution": {
     "iopub.execute_input": "2020-08-27T06:34:49.280863Z",
     "iopub.status.busy": "2020-08-27T06:34:49.278167Z",
     "iopub.status.idle": "2020-08-27T06:34:51.011496Z",
     "shell.execute_reply": "2020-08-27T06:34:51.010685Z"
    },
    "papermill": {
     "duration": 1.783318,
     "end_time": "2020-08-27T06:34:51.011633",
     "exception": false,
     "start_time": "2020-08-27T06:34:49.228315",
     "status": "completed"
    },
    "tags": []
   },
   "outputs": [
    {
     "name": "stdout",
     "output_type": "stream",
     "text": [
      "[06:34:49] WARNING: /workspace/src/learner.cc:480: \n",
      "Parameters: { num_boost_round } might not be used.\n",
      "\n",
      "  This may not be accurate due to some parameters are only used in language bindings but\n",
      "  passed down to XGBoost core.  Or some parameters are not used but slip through this\n",
      "  verification. Please open an issue if you find above cases.\n",
      "\n",
      "\n",
      "XGBClassifier(base_score=0.5, booster='gbtree', colsample_bylevel=1,\n",
      "              colsample_bynode=1, colsample_bytree=0.9105243559214375, gamma=0,\n",
      "              gpu_id=-1, importance_type='gain', interaction_constraints='',\n",
      "              learning_rate=0.018545066485002128, max_delta_step=0, max_depth=2,\n",
      "              min_child_weight=7.574953159100704, missing=nan,\n",
      "              monotone_constraints='()', n_estimators=100, n_jobs=-1,\n",
      "              num_boost_round=644, num_parallel_tree=1, random_state=0,\n",
      "              reg_alpha=0, reg_lambda=1, scale_pos_weight=1.611764705882353,\n",
      "              subsample=0.9426340819991916, tree_method='exact',\n",
      "              validate_parameters=1, verbosity=None)\n",
      "\n",
      "=============================> TRAIN-TEST DETAILS <======================================\n",
      "Train Size: 666 samples\n",
      " Test Size: 223 samples\n",
      "---------------------------------------------\n",
      "Training Time: 0 seconds\n",
      " Testing Time: 0.002 seconds\n",
      "---------------------------------------------\n",
      "Train Accuracy:  0.7927927927927928\n",
      " Test Accuracy:  0.7937219730941704\n",
      "---------------------------------------------\n",
      "Train F1 Score:  0.73046875\n",
      " Test F1 Score:  0.7356321839080459\n",
      "\n",
      "---------------------------------------------\n",
      " Area Under ROC (test):  0.8746803069053709\n",
      "---------------------------------------------\n",
      "Model Memory Size: 43.77 kB\n",
      "\n",
      "=============================> CLASSIFICATION REPORT <===================================\n",
      "              precision    recall  f1-score   support\n",
      "\n",
      "Not Survived       0.84      0.82      0.83       138\n",
      "    Survived       0.72      0.75      0.74        85\n",
      "\n",
      "    accuracy                           0.79       223\n",
      "   macro avg       0.78      0.79      0.78       223\n",
      "weighted avg       0.80      0.79      0.79       223\n",
      "\n",
      "\n",
      "================================> CONFUSION MATRIX <=====================================\n"
     ]
    },
    {
     "data": {
      "image/png": "[encoded data removed]",
      "text/plain": [
       "<Figure size 432x288 with 2 Axes>"
      ]
     },
     "metadata": {},
     "output_type": "display_data"
    },
    {
     "name": "stdout",
     "output_type": "stream",
     "text": [
      "\n",
      "=======================================> PLOTS <=========================================\n"
     ]
    },
    {
     "data": {
      "image/png": "[encoded data removed]",
      "text/plain": [
       "<Figure size 1008x720 with 4 Axes>"
      ]
     },
     "metadata": {},
     "output_type": "display_data"
    }
   ],
   "source": [
    "xgb_clf_tuned_2 = XGBClassifier(**params, scale_pos_weight=cls_weight,\n",
    "                                random_state=0, n_jobs=-1)\n",
    "xgb_clf_tuned_2.fit(x_train, y_train);\n",
    "\n",
    "xgb_clf_tuned_2, xgb_report_tuned_2 = report(xgb_clf_tuned_2, x_train, y_train,\n",
    "                                             x_test, y_test,\n",
    "                                             display_scores=[primary_eval_metric],\n",
    "                                             importance_plot=True,\n",
    "                                             feature_labels=feature_names,\n",
    "                                             confusion_labels=confusion_lbs)"
   ]
  },
  {
   "cell_type": "markdown",
   "execution_count": null,
   "metadata": {
    "id": "N8VZt08QZCeM",
    "papermill": {
     "duration": 0.047461,
     "end_time": "2020-08-27T06:34:51.106827",
     "exception": false,
     "start_time": "2020-08-27T06:34:51.059366",
     "status": "completed"
    },
    "tags": []
   },
   "source": [
    "<a id=\"model-comparison\"></a>\n",
    "# 8. Model Comparison"
   ]
  },
  {
   "cell_type": "code",
   "execution_count": 43,
   "metadata": {
    "execution": {
     "iopub.execute_input": "2020-08-27T06:34:51.208497Z",
     "iopub.status.busy": "2020-08-27T06:34:51.207718Z",
     "iopub.status.idle": "2020-08-27T06:34:51.211309Z",
     "shell.execute_reply": "2020-08-27T06:34:51.210523Z"
    },
    "id": "e3vBejgLZCeN",
    "papermill": {
     "duration": 0.056792,
     "end_time": "2020-08-27T06:34:51.211436",
     "exception": false,
     "start_time": "2020-08-27T06:34:51.154644",
     "status": "completed"
    },
    "tags": []
   },
   "outputs": [],
   "source": [
    "report_list = [xgb_report_default, xgb_report_tuned_1, xgb_report_tuned_2]\n",
    "clf_labels = ['XGBoost with default params',\n",
    "              'XGBoost after 10 trials',\n",
    "              'XGBoost after 50 more trials',]"
   ]
  },
  {
   "cell_type": "code",
   "execution_count": 44,
   "metadata": {
    "execution": {
     "iopub.execute_input": "2020-08-27T06:34:51.320722Z",
     "iopub.status.busy": "2020-08-27T06:34:51.319608Z",
     "iopub.status.idle": "2020-08-27T06:34:56.314206Z",
     "shell.execute_reply": "2020-08-27T06:34:56.313422Z"
    },
    "id": "_i0PYNYWZCeQ",
    "outputId": "e54c29df-48d9-4fd4-ba9c-a2b2304d542d",
    "papermill": {
     "duration": 5.056134,
     "end_time": "2020-08-27T06:34:56.314339",
     "exception": false,
     "start_time": "2020-08-27T06:34:51.258205",
     "status": "completed"
    },
    "tags": []
   },
   "outputs": [
    {
     "data": {
      "text/html": [
       "<div>\n",
       "<style scoped>\n",
       "    .dataframe tbody tr th:only-of-type {\n",
       "        vertical-align: middle;\n",
       "    }\n",
       "\n",
       "    .dataframe tbody tr th {\n",
       "        vertical-align: top;\n",
       "    }\n",
       "\n",
       "    .dataframe thead th {\n",
       "        text-align: right;\n",
       "    }\n",
       "</style>\n",
       "<table border=\"1\" class=\"dataframe\">\n",
       "  <thead>\n",
       "    <tr style=\"text-align: right;\">\n",
       "      <th></th>\n",
       "      <th>Train f1_score</th>\n",
       "      <th>Test f1_score</th>\n",
       "      <th>Overfitting</th>\n",
       "      <th>ROC Area</th>\n",
       "      <th>Precision</th>\n",
       "      <th>Recall</th>\n",
       "      <th>F1-score</th>\n",
       "      <th>Support</th>\n",
       "    </tr>\n",
       "  </thead>\n",
       "  <tbody>\n",
       "    <tr>\n",
       "      <th>XGBoost with default params</th>\n",
       "      <td>0.983</td>\n",
       "      <td>0.795</td>\n",
       "      <td>True</td>\n",
       "      <td>0.872634</td>\n",
       "      <td>0.790698</td>\n",
       "      <td>0.8</td>\n",
       "      <td>0.795322</td>\n",
       "      <td>85</td>\n",
       "    </tr>\n",
       "    <tr>\n",
       "      <th>XGBoost after 10 trials</th>\n",
       "      <td>0.728</td>\n",
       "      <td>0.717</td>\n",
       "      <td>True</td>\n",
       "      <td>0.859079</td>\n",
       "      <td>0.666667</td>\n",
       "      <td>0.776471</td>\n",
       "      <td>0.717391</td>\n",
       "      <td>85</td>\n",
       "    </tr>\n",
       "    <tr>\n",
       "      <th>XGBoost after 50 more trials</th>\n",
       "      <td>0.73</td>\n",
       "      <td>0.736</td>\n",
       "      <td>False</td>\n",
       "      <td>0.87468</td>\n",
       "      <td>0.719101</td>\n",
       "      <td>0.752941</td>\n",
       "      <td>0.735632</td>\n",
       "      <td>85</td>\n",
       "    </tr>\n",
       "  </tbody>\n",
       "</table>\n",
       "</div>"
      ],
      "text/plain": [
       "                             Train f1_score Test f1_score Overfitting  \\\n",
       "XGBoost with default params           0.983         0.795        True   \n",
       "XGBoost after 10 trials               0.728         0.717        True   \n",
       "XGBoost after 50 more trials           0.73         0.736       False   \n",
       "\n",
       "                              ROC Area Precision    Recall  F1-score Support  \n",
       "XGBoost with default params   0.872634  0.790698       0.8  0.795322      85  \n",
       "XGBoost after 10 trials       0.859079  0.666667  0.776471  0.717391      85  \n",
       "XGBoost after 50 more trials   0.87468  0.719101  0.752941  0.735632      85  "
      ]
     },
     "execution_count": 44,
     "metadata": {},
     "output_type": "execute_result"
    }
   ],
   "source": [
    "compare_table, compare_plot = compare_models(y_test, clf_reports=report_list,\n",
    "                                             labels=clf_labels,\n",
    "                                             score=primary_eval_metric.__name__)\n",
    "\n",
    "compare_table"
   ]
  },
  {
   "cell_type": "markdown",
   "execution_count": null,
   "metadata": {
    "papermill": {
     "duration": 0.047935,
     "end_time": "2020-08-27T06:34:56.410507",
     "exception": false,
     "start_time": "2020-08-27T06:34:56.362572",
     "status": "completed"
    },
    "tags": []
   },
   "source": [
    "Thank You!!"
   ]
  }
 ],
 "metadata": {
  "kernelspec": {
   "display_name": "Python 3",
   "language": "python",
   "name": "python3"
  },
  "language_info": {
   "codemirror_mode": {
    "name": "ipython",
    "version": 3
   },
   "file_extension": ".py",
   "mimetype": "text/x-python",
   "name": "python",
   "nbconvert_exporter": "python",
   "pygments_lexer": "ipython3",
   "version": "3.7.6"
  },
  "papermill": {
   "duration": 154.461237,
   "end_time": "2020-08-27T06:34:56.568028",
   "environment_variables": {},
   "exception": null,
   "input_path": "__notebook__.ipynb",
   "output_path": "__notebook__.ipynb",
   "parameters": {},
   "start_time": "2020-08-27T06:32:22.106791",
   "version": "2.1.0"
  }
 },
 "nbformat": 4,
 "nbformat_minor": 4
}
